{
  "nbformat": 4,
  "nbformat_minor": 0,
  "metadata": {
    "colab": {
      "name": "Chat_with_GPT3.ipynb",
      "provenance": [],
      "authorship_tag": "ABX9TyPMzZlkGVdAKUn0y4V3mGSQ",
      "include_colab_link": true
    },
    "kernelspec": {
      "name": "python3",
      "display_name": "Python 3"
    },
    "language_info": {
      "name": "python"
    }
  },
  "cells": [
    {
      "cell_type": "markdown",
      "metadata": {
        "id": "view-in-github",
        "colab_type": "text"
      },
      "source": [
        "<a href=\"https://colab.research.google.com/github/Han-Archives/Colab/blob/main/Chat_with_GPT3.ipynb\" target=\"_parent\"><img src=\"https://colab.research.google.com/assets/colab-badge.svg\" alt=\"Open In Colab\"/></a>"
      ]
    },
    {
      "cell_type": "code",
      "source": [
        "!pip install openai"
      ],
      "metadata": {
        "colab": {
          "base_uri": "https://localhost:8080/"
        },
        "id": "bpcqlyc6Ccud",
        "outputId": "02170988-e8fe-435a-b65f-9a9e126e9817"
      },
      "execution_count": 23,
      "outputs": [
        {
          "output_type": "stream",
          "name": "stdout",
          "text": [
            "Requirement already satisfied: openai in /usr/local/lib/python3.7/dist-packages (0.2.4)\n",
            "Requirement already satisfied: requests>=2.20 in /usr/local/lib/python3.7/dist-packages (from openai) (2.27.1)\n",
            "Requirement already satisfied: urllib3<1.27,>=1.21.1 in /usr/local/lib/python3.7/dist-packages (from requests>=2.20->openai) (1.26.5)\n",
            "Requirement already satisfied: certifi>=2017.4.17 in /usr/local/lib/python3.7/dist-packages (from requests>=2.20->openai) (2020.6.20)\n",
            "Requirement already satisfied: idna<4,>=2.5 in /usr/local/lib/python3.7/dist-packages (from requests>=2.20->openai) (2.10)\n",
            "Requirement already satisfied: charset-normalizer~=2.0.0 in /usr/local/lib/python3.7/dist-packages (from requests>=2.20->openai) (2.0.11)\n"
          ]
        }
      ]
    },
    {
      "cell_type": "code",
      "execution_count": 24,
      "metadata": {
        "colab": {
          "base_uri": "https://localhost:8080/"
        },
        "id": "OThoRQxG414H",
        "outputId": "0009c442-61e4-421e-9e53-2eae934f0d39"
      },
      "outputs": [
        {
          "output_type": "stream",
          "name": "stdout",
          "text": [
            "Mounted at /content/drive\n"
          ]
        }
      ],
      "source": [
        "\"\"\" API \"\"\"\n",
        "import os, sys\n",
        "from google.colab import drive\n",
        "import pandas as pd\n",
        "import openai\n",
        "import requests\n",
        "\n",
        "drive.mount('/content/drive')"
      ]
    },
    {
      "cell_type": "code",
      "source": [
        "# naver_api\n",
        "naver_api = pd.read_csv('/content/drive/MyDrive/Colab Notebooks/naver_api.txt', sep=',')\n",
        "naver_api = list(naver_api) # [0]:id , [1]:pw\n",
        "\n",
        "# openai_api\n",
        "openai_api = pd.read_csv('/content/drive/MyDrive/Colab Notebooks/openai_api.txt')\n",
        "openai_api = list(openai_api)\n",
        "openai.api_key = openai_api[0]"
      ],
      "metadata": {
        "id": "U4z50iMoCREw"
      },
      "execution_count": 25,
      "outputs": []
    },
    {
      "cell_type": "code",
      "source": [
        "# using papago\n",
        "def translate(text,o_lang,t_lang):\n",
        "  data = {'text':text, 'source':o_lang,'target':t_lang} \n",
        "\n",
        "  client_id = naver_api[0]\n",
        "  client_secret = naver_api[1]\n",
        "  url = \"https://openapi.naver.com/v1/papago/n2mt\"\n",
        "\n",
        "  header = {\"X-Naver-Client-Id\":client_id,\"X-Naver-Client-Secret\":client_secret}\n",
        "\n",
        "  response = requests.post(url, headers=header, data= data)\n",
        "  rescode = response.status_code\n",
        "\n",
        "  if(rescode==200):\n",
        "    t_data = response.json()\n",
        "    \n",
        "    return t_data['message']['result']['translatedText']\n",
        "  else:\n",
        "    print('Error Code: ', rescode)"
      ],
      "metadata": {
        "id": "kq-OqymQACm2"
      },
      "execution_count": 69,
      "outputs": []
    },
    {
      "cell_type": "markdown",
      "source": [
        "# 파파고 국가별 언어\n",
        "\n",
        "*   한국어 - ko\n",
        "*   영어 - en\n",
        "*   중국어간체 - zh-CN\n",
        "*   중국어번체 - zh-TW\n",
        "*   일본어 - ja\n",
        "*   인도어 - hi\n",
        "*   스페인어 - es\n",
        "*   베트남어 - vi\n",
        "*   프랑스어 - fr\n",
        "*   독일어 - de\n",
        "*   포르투칼어 - pt\n",
        "*   인도네시아어 - id\n",
        "*   페르시아어 - fa\n",
        "*   아랍어 - ar\n",
        "*   러시아어 - ru\n",
        "*   미얀마어 - mm\n",
        "*   태국어 - th\n",
        "*   이탈리아어 - it\n",
        "\n",
        "\n",
        "\n"
      ],
      "metadata": {
        "id": "y-plt1SSEbdM"
      }
    },
    {
      "cell_type": "code",
      "source": [
        "def gpt3(text):\n",
        "  openai.api_key = openai_api[0]\n",
        "  response = openai.Completion.create(engine=\"davinci\", prompt=text, temperature=0.4, max_tokens=30)\n",
        "  \n",
        "  answer = response.choices[0].text.split('.')[0]\n",
        "  answer = answer.replace('\\n\\n','')\n",
        "  answer = answer.replace('”“', '')\n",
        "\n",
        "  return answer"
      ],
      "metadata": {
        "id": "3ZngoMHBEPem"
      },
      "execution_count": 73,
      "outputs": []
    },
    {
      "cell_type": "code",
      "source": [
        "text = input(\"하고 싶은말 입력하시오. \\n\")\n",
        "translate(text,'ko','en')\n",
        "text = translate(text,'ko','en')\n",
        "print('번역: ',text) # 질문을 영어로 변환\n",
        "print('\\n')\n",
        "\n",
        "# GPT-3\n",
        "gpt3(text)\n",
        "answer = gpt3(text)\n",
        "print(answer)\n",
        "translate(answer,'en','ko')\n",
        "answer = translate(answer,'en','ko')\n",
        "print('번역: ',answer)\n",
        "print('\\n')"
      ],
      "metadata": {
        "colab": {
          "base_uri": "https://localhost:8080/"
        },
        "id": "HVB3i6kHAcWP",
        "outputId": "4ebeb6b0-04f7-4e7b-c74f-2a561282e48c"
      },
      "execution_count": 74,
      "outputs": [
        {
          "output_type": "stream",
          "name": "stdout",
          "text": [
            "하고 싶은말 입력하시오. \n",
            "머하니?\n",
            "번역:  What are you doing?\n",
            "\n",
            "\n",
            "I’m going to get a drink of water\n",
            "번역:  물 한 잔 마셔야겠어요.\n",
            "\n",
            "\n"
          ]
        }
      ]
    },
    {
      "cell_type": "markdown",
      "source": [
        "GPT-3 의 temperatrue 값에 따라 답변이 다르게 나온다. 온도 차이의 변화에 따른 답변의 차이를 살펴보자"
      ],
      "metadata": {
        "id": "UYut51aK8WaW"
      }
    },
    {
      "cell_type": "code",
      "source": [
        "def test_gpt3(text, temp):\n",
        "  openai.api_key = openai_api[0]\n",
        "  response = openai.Completion.create(engine=\"davinci\", prompt=text, temperature=temp, max_tokens=30)\n",
        "  \n",
        "  answer = response.choices[0].text.split('.')[0]\n",
        "  answer = answer.replace('\\n\\n','')\n",
        "  answer = answer.replace('”“', '')\n",
        "\n",
        "  return answer"
      ],
      "metadata": {
        "id": "zupPNIQv8o0p"
      },
      "execution_count": 64,
      "outputs": []
    },
    {
      "cell_type": "code",
      "source": [
        "# Question1. 어떤 영화 좋아해?\n",
        "text = input(\"하고 싶은말 입력하시오. \\n\")\n",
        "translate(text,'ko','en')\n",
        "text = translate(text,'ko','en')\n",
        "print('번역: ',text) # 질문을 영어로 변환\n",
        "print('\\n')\n",
        "\n",
        "# answer1 (temp = 0.1)\n",
        "test_gpt3(text, 0.1)\n",
        "answer1 = test_gpt3(text, 0.1)\n",
        "print('---- temp 0.1 -------')\n",
        "print(answer1)\n",
        "translate(answer1,'en','ko')\n",
        "answer=translate(answer1,'en','ko')\n",
        "print('번역: ',answer)\n",
        "print('\\n')\n",
        "\n",
        "# answer2 (temp = 0.4)\n",
        "test_gpt3(text, 0.4)\n",
        "answer2 = test_gpt3(text, 0.4)\n",
        "print('---- temp 0.4 -------')\n",
        "print(answer2)\n",
        "translate(answer2,'en','ko')\n",
        "answer=translate(answer2,'en','ko')\n",
        "print('번역: ',answer)\n",
        "print('\\n')\n",
        "\n",
        "# answer3 (temp = 0.6)\n",
        "test_gpt3(text, 0.6)\n",
        "answer3 = test_gpt3(text, 0.6)\n",
        "print('---- temp 0.6 -------')\n",
        "print(answer3)\n",
        "translate(answer3,'en','ko')\n",
        "answer=translate(answer3,'en','ko')\n",
        "print('번역: ',answer)\n",
        "print('\\n')\n",
        "\n",
        "# answer4 (temp = 0.9)\n",
        "test_gpt3(text, 0.9)\n",
        "answer4 = test_gpt3(text, 0.9)\n",
        "print('---- temp 0.9 -------')\n",
        "print(answer4)\n",
        "translate(answer4,'en','ko')\n",
        "answer = translate(answer4,'en','ko')\n",
        "print('번역: ',answer)\n",
        "print('\\n')\n"
      ],
      "metadata": {
        "colab": {
          "base_uri": "https://localhost:8080/"
        },
        "id": "35z9PDf96bUA",
        "outputId": "f176fe52-761b-409d-fbc0-dd139af1f3ed"
      },
      "execution_count": 75,
      "outputs": [
        {
          "output_type": "stream",
          "name": "stdout",
          "text": [
            "하고 싶은말 입력하시오. \n",
            "어떤 영화 좋아하세요?\n",
            "번역:  What kind of movie do you like?\n",
            "\n",
            "\n",
            "---- temp 0.1 -------\n",
            "I like action movies\n",
            "번역:  나는 액션 영화를 좋아한다.\n",
            "\n",
            "\n",
            "---- temp 0.4 -------\n",
            "I like action movies, comedies, and horror movies\n",
            "번역:  나는 액션 영화, 코미디, 공포 영화를 좋아한다.\n",
            "\n",
            "\n",
            "---- temp 0.6 -------\n",
            "I like action movies, but I also like romance movies\n",
            "번역:  나는 액션 영화도 좋아하지만 로맨스 영화도 좋아한다.\n",
            "\n",
            "\n",
            "---- temp 0.9 -------\n",
            "The type that’s provoking enough to keep me thinking\n",
            "번역:  그런 생각이 들 정도로 자극적인 타입이\n",
            "\n",
            "\n"
          ]
        }
      ]
    },
    {
      "cell_type": "code",
      "source": [
        "# Question2 점심 머 먹을래?\n",
        "text = input(\"하고 싶은말 입력하시오. \\n\")\n",
        "translate(text,'ko','en')\n",
        "text = translate(text,'ko','en')\n",
        "print('번역: ',text) # 질문을 영어로 변환\n",
        "print('\\n')\n",
        "\n",
        "# answer1 (temp = 0.1)\n",
        "test_gpt3(text, 0.1)\n",
        "answer1 = test_gpt3(text, 0.1)\n",
        "print('---- temp 0.1 -------')\n",
        "print(answer1)\n",
        "translate(answer1,'en','ko')\n",
        "answer=translate(answer1,'en','ko')\n",
        "print('번역: ',answer)\n",
        "print('\\n')\n",
        "\n",
        "# answer2 (temp = 0.4)\n",
        "test_gpt3(text, 0.4)\n",
        "answer2 = test_gpt3(text, 0.4)\n",
        "print('---- temp 0.4 -------')\n",
        "print(answer2)\n",
        "translate(answer2,'en','ko')\n",
        "answer=translate(answer2,'en','ko')\n",
        "print('번역: ',answer)\n",
        "print('\\n')\n",
        "\n",
        "# answer3 (temp = 0.6)\n",
        "test_gpt3(text, 0.6)\n",
        "answer3 = test_gpt3(text, 0.6)\n",
        "print('---- temp 0.6 -------')\n",
        "print(answer3)\n",
        "translate(answer3,'en','ko')\n",
        "answer=translate(answer3,'en','ko')\n",
        "print('번역: ',answer)\n",
        "print('\\n')\n",
        "\n",
        "# answer4 (temp = 0.9)\n",
        "test_gpt3(text, 0.9)\n",
        "answer4 = test_gpt3(text, 0.9)\n",
        "print('---- temp 0.9 -------')\n",
        "print(answer4)\n",
        "translate(answer4,'en','ko')\n",
        "answer = translate(answer4,'en','ko')\n",
        "print('번역: ',answer)\n",
        "print('\\n')\n"
      ],
      "metadata": {
        "colab": {
          "base_uri": "https://localhost:8080/"
        },
        "id": "AtCvPYK37mZQ",
        "outputId": "901baf67-02c0-418b-f10f-c33775913a21"
      },
      "execution_count": 76,
      "outputs": [
        {
          "output_type": "stream",
          "name": "stdout",
          "text": [
            "하고 싶은말 입력하시오. \n",
            "점심 머 먹을래?\n",
            "번역:  What do you want for lunch?\n",
            "\n",
            "\n",
            "---- temp 0.1 -------\n",
            "I don’t know\n",
            "번역:  나는 모른다.\n",
            "\n",
            "\n",
            "---- temp 0.4 -------\n",
            "I don’t know\n",
            "번역:  나는 모른다.\n",
            "\n",
            "\n",
            "---- temp 0.6 -------\n",
            "I’m not hungry\n",
            "번역:  배고프지 않아\n",
            "\n",
            "\n",
            "---- temp 0.9 -------\n",
            "” my daughter asks\n",
            "번역:  \" 내 딸이 묻다.\n",
            "\n",
            "\n"
          ]
        }
      ]
    },
    {
      "cell_type": "code",
      "source": [
        "# Question3. BTS에 어떻게 생각해?\n",
        "text = input(\"하고 싶은말 입력하시오. \\n\")\n",
        "translate(text,'ko','en')\n",
        "text = translate(text,'ko','en')\n",
        "print('번역: ',text) # 질문을 영어로 변환\n",
        "print('\\n')\n",
        "\n",
        "# answer1 (temp = 0.1)\n",
        "test_gpt3(text, 0.1)\n",
        "answer1 = test_gpt3(text, 0.1)\n",
        "print('---- temp 0.1 -------')\n",
        "print(answer1)\n",
        "translate(answer1,'en','ko')\n",
        "answer=translate(answer1,'en','ko')\n",
        "print('번역: ',answer)\n",
        "print('\\n')\n",
        "\n",
        "# answer2 (temp = 0.4)\n",
        "test_gpt3(text, 0.4)\n",
        "answer2 = test_gpt3(text, 0.4)\n",
        "print('---- temp 0.4 -------')\n",
        "print(answer2)\n",
        "translate(answer2,'en','ko')\n",
        "answer=translate(answer2,'en','ko')\n",
        "print('번역: ',answer)\n",
        "print('\\n')\n",
        "\n",
        "# answer3 (temp = 0.6)\n",
        "test_gpt3(text, 0.6)\n",
        "answer3 = test_gpt3(text, 0.6)\n",
        "print('---- temp 0.6 -------')\n",
        "print(answer3)\n",
        "translate(answer3,'en','ko')\n",
        "answer=translate(answer3,'en','ko')\n",
        "print('번역: ',answer)\n",
        "print('\\n')\n",
        "\n",
        "# answer4 (temp = 0.9)\n",
        "test_gpt3(text, 0.9)\n",
        "answer4 = test_gpt3(text, 0.9)\n",
        "print('---- temp 0.9 -------')\n",
        "print(answer4)\n",
        "translate(answer4,'en','ko')\n",
        "answer = translate(answer4,'en','ko')\n",
        "print('번역: ',answer)\n",
        "print('\\n')"
      ],
      "metadata": {
        "colab": {
          "base_uri": "https://localhost:8080/"
        },
        "id": "LuBJ-Jw7Gxwl",
        "outputId": "35e8f0b2-19ee-48c9-c045-99abc2660fc2"
      },
      "execution_count": 81,
      "outputs": [
        {
          "output_type": "stream",
          "name": "stdout",
          "text": [
            "하고 싶은말 입력하시오. \n",
            "BTS에 대해 어떻게 생각해?\n",
            "번역:  What do you think about BTS?\n",
            "\n",
            "\n",
            "---- temp 0.1 -------\n",
            "I think they’re really cool\n",
            "번역:  진짜 멋있는 것 같아요.\n",
            "\n",
            "\n",
            "---- temp 0.4 -------\n",
            "I think they are amazing\n",
            "번역:  나는 그들이 대단하다고 생각한다.\n",
            "\n",
            "\n",
            "---- temp 0.6 -------\n",
            "They’re all so talented and I love that they’re all so young\n",
            "번역:  그들은 모두 재능있고 너무 젊어서 좋다.\n",
            "\n",
            "\n",
            "---- temp 0.9 -------\n",
            " Let us know in the comments below!\n",
            "번역:  아래 댓글로 알려주세요.\n",
            "\n",
            "\n"
          ]
        }
      ]
    },
    {
      "cell_type": "code",
      "source": [
        "# Question4. 김정은 어떻게 생각해?\n",
        "text = input(\"하고 싶은말 입력하시오. \\n\")\n",
        "translate(text,'ko','en')\n",
        "text = translate(text,'ko','en')\n",
        "print('번역: ',text) # 질문을 영어로 변환\n",
        "print('\\n')\n",
        "\n",
        "# answer1 (temp = 0.1)\n",
        "test_gpt3(text, 0.1)\n",
        "answer1 = test_gpt3(text, 0.1)\n",
        "print('---- temp 0.1 -------')\n",
        "print(answer1)\n",
        "translate(answer1,'en','ko')\n",
        "answer=translate(answer1,'en','ko')\n",
        "print('번역: ',answer)\n",
        "print('\\n')\n",
        "\n",
        "# answer2 (temp = 0.4)\n",
        "test_gpt3(text, 0.4)\n",
        "answer2 = test_gpt3(text, 0.4)\n",
        "print('---- temp 0.4 -------')\n",
        "print(answer2)\n",
        "translate(answer2,'en','ko')\n",
        "answer=translate(answer2,'en','ko')\n",
        "print('번역: ',answer)\n",
        "print('\\n')\n",
        "\n",
        "# answer3 (temp = 0.6)\n",
        "test_gpt3(text, 0.6)\n",
        "answer3 = test_gpt3(text, 0.6)\n",
        "print('---- temp 0.6 -------')\n",
        "print(answer3)\n",
        "translate(answer3,'en','ko')\n",
        "answer=translate(answer3,'en','ko')\n",
        "print('번역: ',answer)\n",
        "print('\\n')\n",
        "\n",
        "# answer4 (temp = 0.9)\n",
        "test_gpt3(text, 0.9)\n",
        "answer4 = test_gpt3(text, 0.9)\n",
        "print('---- temp 0.9 -------')\n",
        "print(answer4)\n",
        "translate(answer4,'en','ko')\n",
        "answer = translate(answer4,'en','ko')\n",
        "print('번역: ',answer)\n",
        "print('\\n')"
      ],
      "metadata": {
        "colab": {
          "base_uri": "https://localhost:8080/"
        },
        "id": "xBFKNZNiHVyW",
        "outputId": "818a1044-3620-4ab4-be27-d699c49e9dec"
      },
      "execution_count": 86,
      "outputs": [
        {
          "output_type": "stream",
          "name": "stdout",
          "text": [
            "하고 싶은말 입력하시오. \n",
            "김정은에 대해 어떻게 생각해?\n",
            "번역:  What do you think about Kim Jong Un?\n",
            "\n",
            "\n",
            "---- temp 0.1 -------\n",
            "I think he’s a great guy\n",
            "번역:  나는 그가 좋은 사람이라고 생각한다.\n",
            "\n",
            "\n",
            "---- temp 0.4 -------\n",
            "I think he’s a great guy\n",
            "번역:  나는 그가 좋은 사람이라고 생각한다.\n",
            "\n",
            "\n",
            "---- temp 0.6 -------\n",
            "I think he's very good\n",
            "번역:  아주 잘하는 것 같아요.\n",
            "\n",
            "\n",
            "---- temp 0.9 -------\n",
            "” I asked her\n",
            "번역:  \" 그녀에게 물었다.\n",
            "\n",
            "\n"
          ]
        }
      ]
    },
    {
      "cell_type": "markdown",
      "source": [
        "## 챗봇 만들기\n",
        "\n",
        "GPT3의 응답기능을 활용하여 특정한 상황에서 사용할 수 있는 챗봇을 만들어보자.\n"
      ],
      "metadata": {
        "id": "c_eIXnJxPsi6"
      }
    },
    {
      "cell_type": "code",
      "source": [
        "!git clone https://github.com/shreyashankar/gpt3-sandbox.git"
      ],
      "metadata": {
        "colab": {
          "base_uri": "https://localhost:8080/"
        },
        "id": "2aeoxnuSPq6j",
        "outputId": "3e841888-5356-4559-9771-c4a3ed8479ad"
      },
      "execution_count": 9,
      "outputs": [
        {
          "output_type": "stream",
          "name": "stdout",
          "text": [
            "Cloning into 'gpt3-sandbox'...\n",
            "remote: Enumerating objects: 2482, done.\u001b[K\n",
            "remote: Counting objects: 100% (78/78), done.\u001b[K\n",
            "remote: Compressing objects: 100% (73/73), done.\u001b[K\n",
            "remote: Total 2482 (delta 37), reused 11 (delta 5), pack-reused 2404\u001b[K\n",
            "Receiving objects: 100% (2482/2482), 5.48 MiB | 13.23 MiB/s, done.\n",
            "Resolving deltas: 100% (704/704), done.\n"
          ]
        }
      ]
    },
    {
      "cell_type": "code",
      "source": [
        "cd gpt3-sandbox"
      ],
      "metadata": {
        "colab": {
          "base_uri": "https://localhost:8080/"
        },
        "id": "MSaU0NHbQs_2",
        "outputId": "06414143-7d1e-421d-b0b6-2147f9034d38"
      },
      "execution_count": 10,
      "outputs": [
        {
          "output_type": "stream",
          "name": "stdout",
          "text": [
            "/content/gpt3-sandbox/gpt3-sandbox\n"
          ]
        }
      ]
    },
    {
      "cell_type": "code",
      "source": [
        "!pip install -r api/requirements.txt"
      ],
      "metadata": {
        "colab": {
          "base_uri": "https://localhost:8080/"
        },
        "id": "X-AVQ77TQ_bs",
        "outputId": "4c8a9f72-1d7f-4616-bc9d-42991accc983"
      },
      "execution_count": 11,
      "outputs": [
        {
          "output_type": "stream",
          "name": "stdout",
          "text": [
            "Requirement already satisfied: astroid==2.4.2 in /usr/local/lib/python3.7/dist-packages (from -r api/requirements.txt (line 1)) (2.4.2)\n",
            "Requirement already satisfied: certifi==2020.6.20 in /usr/local/lib/python3.7/dist-packages (from -r api/requirements.txt (line 2)) (2020.6.20)\n",
            "Requirement already satisfied: chardet==3.0.4 in /usr/local/lib/python3.7/dist-packages (from -r api/requirements.txt (line 3)) (3.0.4)\n",
            "Requirement already satisfied: click==7.1.2 in /usr/local/lib/python3.7/dist-packages (from -r api/requirements.txt (line 4)) (7.1.2)\n",
            "Requirement already satisfied: Flask==1.1.2 in /usr/local/lib/python3.7/dist-packages (from -r api/requirements.txt (line 5)) (1.1.2)\n",
            "Requirement already satisfied: idna==2.10 in /usr/local/lib/python3.7/dist-packages (from -r api/requirements.txt (line 6)) (2.10)\n",
            "Requirement already satisfied: itsdangerous==1.1.0 in /usr/local/lib/python3.7/dist-packages (from -r api/requirements.txt (line 7)) (1.1.0)\n",
            "Requirement already satisfied: Jinja2==2.11.3 in /usr/local/lib/python3.7/dist-packages (from -r api/requirements.txt (line 8)) (2.11.3)\n",
            "Requirement already satisfied: MarkupSafe==1.1.1 in /usr/local/lib/python3.7/dist-packages (from -r api/requirements.txt (line 9)) (1.1.1)\n",
            "Requirement already satisfied: openai==0.2.4 in /usr/local/lib/python3.7/dist-packages (from -r api/requirements.txt (line 10)) (0.2.4)\n",
            "Requirement already satisfied: pylint==2.5.3 in /usr/local/lib/python3.7/dist-packages (from -r api/requirements.txt (line 11)) (2.5.3)\n",
            "Requirement already satisfied: python-dotenv==0.14.0 in /usr/local/lib/python3.7/dist-packages (from -r api/requirements.txt (line 12)) (0.14.0)\n",
            "Requirement already satisfied: requests==2.27.1 in /usr/local/lib/python3.7/dist-packages (from -r api/requirements.txt (line 13)) (2.27.1)\n",
            "Requirement already satisfied: six==1.15.0 in /usr/local/lib/python3.7/dist-packages (from -r api/requirements.txt (line 14)) (1.15.0)\n",
            "Requirement already satisfied: urllib3==1.26.5 in /usr/local/lib/python3.7/dist-packages (from -r api/requirements.txt (line 15)) (1.26.5)\n",
            "Requirement already satisfied: Werkzeug==1.0.1 in /usr/local/lib/python3.7/dist-packages (from -r api/requirements.txt (line 16)) (1.0.1)\n",
            "Requirement already satisfied: wrapt~=1.11 in /usr/local/lib/python3.7/dist-packages (from astroid==2.4.2->-r api/requirements.txt (line 1)) (1.13.3)\n",
            "Requirement already satisfied: typed-ast<1.5,>=1.4.0 in /usr/local/lib/python3.7/dist-packages (from astroid==2.4.2->-r api/requirements.txt (line 1)) (1.4.3)\n",
            "Requirement already satisfied: lazy-object-proxy==1.4.* in /usr/local/lib/python3.7/dist-packages (from astroid==2.4.2->-r api/requirements.txt (line 1)) (1.4.3)\n",
            "Requirement already satisfied: isort<5,>=4.2.5 in /usr/local/lib/python3.7/dist-packages (from pylint==2.5.3->-r api/requirements.txt (line 11)) (4.3.21)\n",
            "Requirement already satisfied: mccabe<0.7,>=0.6 in /usr/local/lib/python3.7/dist-packages (from pylint==2.5.3->-r api/requirements.txt (line 11)) (0.6.1)\n",
            "Requirement already satisfied: toml>=0.7.1 in /usr/local/lib/python3.7/dist-packages (from pylint==2.5.3->-r api/requirements.txt (line 11)) (0.10.2)\n",
            "Requirement already satisfied: charset-normalizer~=2.0.0 in /usr/local/lib/python3.7/dist-packages (from requests==2.27.1->-r api/requirements.txt (line 13)) (2.0.11)\n"
          ]
        }
      ]
    },
    {
      "cell_type": "code",
      "source": [
        "from api import GPT,Example\n",
        "gpt = GPT(temperature=0.6, max_tokens=100)"
      ],
      "metadata": {
        "id": "x70UK_46RCGz"
      },
      "execution_count": 14,
      "outputs": []
    },
    {
      "cell_type": "markdown",
      "source": [
        "## 시나리오 설정 - 백화점\n",
        "\n",
        "![4.PNG](data:image/png;base64,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)"
      ],
      "metadata": {
        "id": "kVi06xpBTBTA"
      }
    },
    {
      "cell_type": "code",
      "source": [
        "# 예제 추가하기\n",
        "# A마트\n",
        "gpt.add_example(Example(\n",
        "    \"A마트 어디에 있어? \",\n",
        "    \"지하 1층에 위치합니다.\"\n",
        "))\n",
        "\n",
        "gpt.add_example(Example(\n",
        "    \"A마트 언제 쉬어? \",\n",
        "    \"매주 화요일에 쉽니다.\"\n",
        "))\n",
        "\n",
        "gpt.add_example(Example(\n",
        "    \"A마트 언제까지 해? \",\n",
        "    \"10시부터 22시까지 운영합니다.\"\n",
        "))\n",
        "\n",
        "gpt.add_example(Example(\n",
        "    \"A마트에 머 팔어? \",\n",
        "    \"A제품이 가장 잘 팔립니다.\"\n",
        "))\n",
        "\n",
        "gpt.add_example(Example(\n",
        "    \"A제품 얼마야? \",\n",
        "    \"11000원에 판매중입니다.\"\n",
        "))"
      ],
      "metadata": {
        "id": "F6Ev59F4RpsN"
      },
      "execution_count": 15,
      "outputs": []
    },
    {
      "cell_type": "code",
      "source": [
        "# B상점\n",
        "gpt.add_example(Example(\n",
        "    \"B상점 어디에 있어? \",\n",
        "    \"2층에 위치합니다.\"\n",
        "))\n",
        "\n",
        "gpt.add_example(Example(\n",
        "    \"B상점 언제 쉬어? \",\n",
        "    \"매주 수요일에 쉽니다.\"\n",
        "))\n",
        "\n",
        "gpt.add_example(Example(\n",
        "    \"B상점 운영시간 알려줘 \",\n",
        "    \"10시부터 19시까지 운영합니다.\"\n",
        "))\n",
        "\n",
        "gpt.add_example(Example(\n",
        "    \"B상점에 머 팔어? \",\n",
        "    \"B제품이 가장 잘 팔립니다.\"\n",
        "))\n",
        "\n",
        "gpt.add_example(Example(\n",
        "    \"B제품 얼마야? \",\n",
        "    \"12000원에 판매중입니다.\"\n",
        "))"
      ],
      "metadata": {
        "id": "Gk5zqzcngWr0"
      },
      "execution_count": 32,
      "outputs": []
    },
    {
      "cell_type": "code",
      "source": [
        "# C상점\n",
        "gpt.add_example(Example(\n",
        "    \"C상점 어디에 있어? \",\n",
        "    \"3층에 위치합니다.\"\n",
        "))\n",
        "\n",
        "gpt.add_example(Example(\n",
        "    \"C상점 언제 쉬어? \",\n",
        "    \"매주 금요일에 쉽니다.\"\n",
        "))\n",
        "\n",
        "gpt.add_example(Example(\n",
        "    \"C상점 언제까지 해? \",\n",
        "    \"11시부터 19시까지 운영합니다.\"\n",
        "))\n",
        "\n",
        "gpt.add_example(Example(\n",
        "    \"C상점에 머 팔어? \",\n",
        "    \"C제품이 가장 잘 팔립니다.\"\n",
        "))\n",
        "\n",
        "gpt.add_example(Example(\n",
        "    \"C제품 얼마야? \",\n",
        "    \"13000원에 판매중입니다.\"\n",
        "))"
      ],
      "metadata": {
        "id": "1IrEDo60goRq"
      },
      "execution_count": 16,
      "outputs": []
    },
    {
      "cell_type": "code",
      "source": [
        "# D카페\n",
        "gpt.add_example(Example(\n",
        "    \"D카페 어디에 있어? \",\n",
        "    \"1층에 위치합니다.\"\n",
        "))\n",
        "\n",
        "gpt.add_example(Example(\n",
        "    \"D카페 언제 쉬어? \",\n",
        "    \"매월 2일, 8일에 쉽니다.\"\n",
        "))\n",
        "\n",
        "gpt.add_example(Example(\n",
        "    \"D카페 언제까지 해? \",\n",
        "    \"9시부터 20시까지 운영합니다.\"\n",
        "))\n",
        "\n",
        "gpt.add_example(Example(\n",
        "    \"D카페에 머 팔어? \",\n",
        "    \"D음료가 가장 잘 팔립니다.\"\n",
        "))\n",
        "\n",
        "gpt.add_example(Example(\n",
        "    \"D음료 얼마야? \",\n",
        "    \"7000원에 판매중입니다.\"\n",
        "))"
      ],
      "metadata": {
        "id": "MHPLF3HYhEQg"
      },
      "execution_count": 18,
      "outputs": []
    },
    {
      "cell_type": "code",
      "source": [
        "# E상점\n",
        "gpt.add_example(Example(\n",
        "    \"E상점 어디에 있어? \",\n",
        "    \"2층에 위치합니다.\"\n",
        "))\n",
        "\n",
        "gpt.add_example(Example(\n",
        "    \"E상점 언제 쉬어? \",\n",
        "    \"매월 13일, 28일에 쉽니다.\"\n",
        "))\n",
        "\n",
        "gpt.add_example(Example(\n",
        "    \"E상점 언제까지 해? \",\n",
        "    \"10시부터 22시까지 운영합니다.\"\n",
        "))\n",
        "\n",
        "gpt.add_example(Example(\n",
        "    \"E상점에 머 팔어? \",\n",
        "    \"E제품이 가장 잘 팔립니다.\"\n",
        "))\n",
        "\n",
        "gpt.add_example(Example(\n",
        "    \"E제품 얼마야? \",\n",
        "    \"125000원에 판매중입니다.\"\n",
        "))"
      ],
      "metadata": {
        "id": "CS3XTgA-iFt8"
      },
      "execution_count": 20,
      "outputs": []
    },
    {
      "cell_type": "code",
      "source": [
        "prompt = \"A마트에 머 팔어?\"\n",
        "output = gpt.submit_request(prompt)\n",
        "output.choices[0]['text']"
      ],
      "metadata": {
        "colab": {
          "base_uri": "https://localhost:8080/",
          "height": 359
        },
        "id": "HDyAIDRxigHS",
        "outputId": "cb223a38-acc9-4843-da5d-9ec05f2618b8"
      },
      "execution_count": 37,
      "outputs": [
        {
          "output_type": "error",
          "ename": "InvalidRequestError",
          "evalue": "ignored",
          "traceback": [
            "\u001b[0;31m---------------------------------------------------------------------------\u001b[0m",
            "\u001b[0;31mInvalidRequestError\u001b[0m                       Traceback (most recent call last)",
            "\u001b[0;32m<ipython-input-37-b39f63cad991>\u001b[0m in \u001b[0;36m<module>\u001b[0;34m()\u001b[0m\n\u001b[1;32m      1\u001b[0m \u001b[0mprompt\u001b[0m \u001b[0;34m=\u001b[0m \u001b[0;34m\"A마트에 머 팔어?\"\u001b[0m\u001b[0;34m\u001b[0m\u001b[0;34m\u001b[0m\u001b[0m\n\u001b[0;32m----> 2\u001b[0;31m \u001b[0moutput\u001b[0m \u001b[0;34m=\u001b[0m \u001b[0mgpt\u001b[0m\u001b[0;34m.\u001b[0m\u001b[0msubmit_request\u001b[0m\u001b[0;34m(\u001b[0m\u001b[0mprompt\u001b[0m\u001b[0;34m)\u001b[0m\u001b[0;34m\u001b[0m\u001b[0;34m\u001b[0m\u001b[0m\n\u001b[0m\u001b[1;32m      3\u001b[0m \u001b[0moutput\u001b[0m\u001b[0;34m.\u001b[0m\u001b[0mchoices\u001b[0m\u001b[0;34m[\u001b[0m\u001b[0;36m0\u001b[0m\u001b[0;34m]\u001b[0m\u001b[0;34m[\u001b[0m\u001b[0;34m'text'\u001b[0m\u001b[0;34m]\u001b[0m\u001b[0;34m\u001b[0m\u001b[0;34m\u001b[0m\u001b[0m\n",
            "\u001b[0;32m/content/gpt3-sandbox/api/gpt.py\u001b[0m in \u001b[0;36msubmit_request\u001b[0;34m(self, prompt)\u001b[0m\n\u001b[1;32m    119\u001b[0m                                             \u001b[0mn\u001b[0m\u001b[0;34m=\u001b[0m\u001b[0;36m1\u001b[0m\u001b[0;34m,\u001b[0m\u001b[0;34m\u001b[0m\u001b[0;34m\u001b[0m\u001b[0m\n\u001b[1;32m    120\u001b[0m                                             \u001b[0mstream\u001b[0m\u001b[0;34m=\u001b[0m\u001b[0;32mFalse\u001b[0m\u001b[0;34m,\u001b[0m\u001b[0;34m\u001b[0m\u001b[0;34m\u001b[0m\u001b[0m\n\u001b[0;32m--> 121\u001b[0;31m                                             stop=self.stop)\n\u001b[0m\u001b[1;32m    122\u001b[0m         \u001b[0;32mreturn\u001b[0m \u001b[0mresponse\u001b[0m\u001b[0;34m\u001b[0m\u001b[0;34m\u001b[0m\u001b[0m\n\u001b[1;32m    123\u001b[0m \u001b[0;34m\u001b[0m\u001b[0m\n",
            "\u001b[0;32m/usr/local/lib/python3.7/dist-packages/openai/api_resources/completion.py\u001b[0m in \u001b[0;36mcreate\u001b[0;34m(cls, *args, **kwargs)\u001b[0m\n\u001b[1;32m     17\u001b[0m         \u001b[0;32mwhile\u001b[0m \u001b[0;32mTrue\u001b[0m\u001b[0;34m:\u001b[0m\u001b[0;34m\u001b[0m\u001b[0;34m\u001b[0m\u001b[0m\n\u001b[1;32m     18\u001b[0m             \u001b[0;32mtry\u001b[0m\u001b[0;34m:\u001b[0m\u001b[0;34m\u001b[0m\u001b[0;34m\u001b[0m\u001b[0m\n\u001b[0;32m---> 19\u001b[0;31m                 \u001b[0;32mreturn\u001b[0m \u001b[0msuper\u001b[0m\u001b[0;34m(\u001b[0m\u001b[0;34m)\u001b[0m\u001b[0;34m.\u001b[0m\u001b[0mcreate\u001b[0m\u001b[0;34m(\u001b[0m\u001b[0;34m*\u001b[0m\u001b[0margs\u001b[0m\u001b[0;34m,\u001b[0m \u001b[0;34m**\u001b[0m\u001b[0mkwargs\u001b[0m\u001b[0;34m)\u001b[0m\u001b[0;34m\u001b[0m\u001b[0;34m\u001b[0m\u001b[0m\n\u001b[0m\u001b[1;32m     20\u001b[0m             \u001b[0;32mexcept\u001b[0m \u001b[0mTryAgain\u001b[0m \u001b[0;32mas\u001b[0m \u001b[0me\u001b[0m\u001b[0;34m:\u001b[0m\u001b[0;34m\u001b[0m\u001b[0;34m\u001b[0m\u001b[0m\n\u001b[1;32m     21\u001b[0m                 \u001b[0;32mif\u001b[0m \u001b[0mtimeout\u001b[0m \u001b[0;32mis\u001b[0m \u001b[0;32mnot\u001b[0m \u001b[0;32mNone\u001b[0m \u001b[0;32mand\u001b[0m \u001b[0mtime\u001b[0m\u001b[0;34m.\u001b[0m\u001b[0mtime\u001b[0m\u001b[0;34m(\u001b[0m\u001b[0;34m)\u001b[0m \u001b[0;34m>\u001b[0m \u001b[0mstart\u001b[0m \u001b[0;34m+\u001b[0m \u001b[0mtimeout\u001b[0m\u001b[0;34m:\u001b[0m\u001b[0;34m\u001b[0m\u001b[0;34m\u001b[0m\u001b[0m\n",
            "\u001b[0;32m/usr/local/lib/python3.7/dist-packages/openai/api_resources/abstract/engine_api_resource.py\u001b[0m in \u001b[0;36mcreate\u001b[0;34m(cls, api_key, api_base, idempotency_key, request_id, api_version, organization, **params)\u001b[0m\n\u001b[1;32m     78\u001b[0m         \u001b[0mheaders\u001b[0m \u001b[0;34m=\u001b[0m \u001b[0mutil\u001b[0m\u001b[0;34m.\u001b[0m\u001b[0mpopulate_headers\u001b[0m\u001b[0;34m(\u001b[0m\u001b[0midempotency_key\u001b[0m\u001b[0;34m,\u001b[0m \u001b[0mrequest_id\u001b[0m\u001b[0;34m)\u001b[0m\u001b[0;34m\u001b[0m\u001b[0;34m\u001b[0m\u001b[0m\n\u001b[1;32m     79\u001b[0m         response, _, api_key = requestor.request(\n\u001b[0;32m---> 80\u001b[0;31m             \u001b[0;34m\"post\"\u001b[0m\u001b[0;34m,\u001b[0m \u001b[0murl\u001b[0m\u001b[0;34m,\u001b[0m \u001b[0mparams\u001b[0m\u001b[0;34m,\u001b[0m \u001b[0mheaders\u001b[0m\u001b[0;34m,\u001b[0m \u001b[0mstream\u001b[0m\u001b[0;34m=\u001b[0m\u001b[0mstream\u001b[0m\u001b[0;34m\u001b[0m\u001b[0;34m\u001b[0m\u001b[0m\n\u001b[0m\u001b[1;32m     81\u001b[0m         )\n\u001b[1;32m     82\u001b[0m \u001b[0;34m\u001b[0m\u001b[0m\n",
            "\u001b[0;32m/usr/local/lib/python3.7/dist-packages/openai/api_requestor.py\u001b[0m in \u001b[0;36mrequest\u001b[0;34m(self, method, url, params, headers, stream)\u001b[0m\n\u001b[1;32m    131\u001b[0m             \u001b[0mmethod\u001b[0m\u001b[0;34m.\u001b[0m\u001b[0mlower\u001b[0m\u001b[0;34m(\u001b[0m\u001b[0;34m)\u001b[0m\u001b[0;34m,\u001b[0m \u001b[0murl\u001b[0m\u001b[0;34m,\u001b[0m \u001b[0mparams\u001b[0m\u001b[0;34m,\u001b[0m \u001b[0mheaders\u001b[0m\u001b[0;34m,\u001b[0m \u001b[0mstream\u001b[0m\u001b[0;34m=\u001b[0m\u001b[0mstream\u001b[0m\u001b[0;34m\u001b[0m\u001b[0;34m\u001b[0m\u001b[0m\n\u001b[1;32m    132\u001b[0m         )\n\u001b[0;32m--> 133\u001b[0;31m         \u001b[0mresp\u001b[0m \u001b[0;34m=\u001b[0m \u001b[0mself\u001b[0m\u001b[0;34m.\u001b[0m\u001b[0minterpret_response\u001b[0m\u001b[0;34m(\u001b[0m\u001b[0mrbody\u001b[0m\u001b[0;34m,\u001b[0m \u001b[0mrcode\u001b[0m\u001b[0;34m,\u001b[0m \u001b[0mrheaders\u001b[0m\u001b[0;34m,\u001b[0m \u001b[0mstream\u001b[0m\u001b[0;34m=\u001b[0m\u001b[0mstream\u001b[0m\u001b[0;34m)\u001b[0m\u001b[0;34m\u001b[0m\u001b[0;34m\u001b[0m\u001b[0m\n\u001b[0m\u001b[1;32m    134\u001b[0m         \u001b[0;32mreturn\u001b[0m \u001b[0mresp\u001b[0m\u001b[0;34m,\u001b[0m \u001b[0mstream\u001b[0m\u001b[0;34m,\u001b[0m \u001b[0mmy_api_key\u001b[0m\u001b[0;34m\u001b[0m\u001b[0;34m\u001b[0m\u001b[0m\n\u001b[1;32m    135\u001b[0m \u001b[0;34m\u001b[0m\u001b[0m\n",
            "\u001b[0;32m/usr/local/lib/python3.7/dist-packages/openai/api_requestor.py\u001b[0m in \u001b[0;36minterpret_response\u001b[0;34m(self, rbody, rcode, rheaders, stream)\u001b[0m\n\u001b[1;32m    354\u001b[0m             )\n\u001b[1;32m    355\u001b[0m         \u001b[0;32melse\u001b[0m\u001b[0;34m:\u001b[0m\u001b[0;34m\u001b[0m\u001b[0;34m\u001b[0m\u001b[0m\n\u001b[0;32m--> 356\u001b[0;31m             \u001b[0;32mreturn\u001b[0m \u001b[0mself\u001b[0m\u001b[0;34m.\u001b[0m\u001b[0minterpret_response_line\u001b[0m\u001b[0;34m(\u001b[0m\u001b[0mrbody\u001b[0m\u001b[0;34m,\u001b[0m \u001b[0mrcode\u001b[0m\u001b[0;34m,\u001b[0m \u001b[0mrheaders\u001b[0m\u001b[0;34m,\u001b[0m \u001b[0mstream\u001b[0m\u001b[0;34m)\u001b[0m\u001b[0;34m\u001b[0m\u001b[0;34m\u001b[0m\u001b[0m\n\u001b[0m\u001b[1;32m    357\u001b[0m \u001b[0;34m\u001b[0m\u001b[0m\n\u001b[1;32m    358\u001b[0m     \u001b[0;32mdef\u001b[0m \u001b[0minterpret_response_line\u001b[0m\u001b[0;34m(\u001b[0m\u001b[0mself\u001b[0m\u001b[0;34m,\u001b[0m \u001b[0mrbody\u001b[0m\u001b[0;34m,\u001b[0m \u001b[0mrcode\u001b[0m\u001b[0;34m,\u001b[0m \u001b[0mrheaders\u001b[0m\u001b[0;34m,\u001b[0m \u001b[0mstream\u001b[0m\u001b[0;34m=\u001b[0m\u001b[0;32mFalse\u001b[0m\u001b[0;34m)\u001b[0m\u001b[0;34m:\u001b[0m\u001b[0;34m\u001b[0m\u001b[0;34m\u001b[0m\u001b[0m\n",
            "\u001b[0;32m/usr/local/lib/python3.7/dist-packages/openai/api_requestor.py\u001b[0m in \u001b[0;36minterpret_response_line\u001b[0;34m(self, rbody, rcode, rheaders, stream)\u001b[0m\n\u001b[1;32m    374\u001b[0m         \u001b[0;32mif\u001b[0m \u001b[0mstream_error\u001b[0m \u001b[0;32mor\u001b[0m \u001b[0;32mnot\u001b[0m \u001b[0;36m200\u001b[0m \u001b[0;34m<=\u001b[0m \u001b[0mrcode\u001b[0m \u001b[0;34m<\u001b[0m \u001b[0;36m300\u001b[0m\u001b[0;34m:\u001b[0m\u001b[0;34m\u001b[0m\u001b[0;34m\u001b[0m\u001b[0m\n\u001b[1;32m    375\u001b[0m             raise self.handle_error_response(\n\u001b[0;32m--> 376\u001b[0;31m                 \u001b[0mrbody\u001b[0m\u001b[0;34m,\u001b[0m \u001b[0mrcode\u001b[0m\u001b[0;34m,\u001b[0m \u001b[0mresp\u001b[0m\u001b[0;34m.\u001b[0m\u001b[0mdata\u001b[0m\u001b[0;34m,\u001b[0m \u001b[0mrheaders\u001b[0m\u001b[0;34m,\u001b[0m \u001b[0mstream_error\u001b[0m\u001b[0;34m=\u001b[0m\u001b[0mstream_error\u001b[0m\u001b[0;34m\u001b[0m\u001b[0;34m\u001b[0m\u001b[0m\n\u001b[0m\u001b[1;32m    377\u001b[0m             )\n\u001b[1;32m    378\u001b[0m \u001b[0;34m\u001b[0m\u001b[0m\n",
            "\u001b[0;31mInvalidRequestError\u001b[0m: This model's maximum context length is 2049 tokens, however you requested 2084 tokens (1984 in your prompt, 100 for the completion). Please reduce your prompt or completion length."
          ]
        }
      ]
    },
    {
      "cell_type": "code",
      "source": [
        "prompt = \"B상점 운영시간 알려줘\"\n",
        "output = gpt.submit_request(prompt)\n",
        "output.choices[0]['text']"
      ],
      "metadata": {
        "colab": {
          "base_uri": "https://localhost:8080/",
          "height": 359
        },
        "id": "VEYHjbMQiqRp",
        "outputId": "1a7cc68b-937d-4204-b2f5-9441fa0be720"
      },
      "execution_count": 35,
      "outputs": [
        {
          "output_type": "error",
          "ename": "InvalidRequestError",
          "evalue": "ignored",
          "traceback": [
            "\u001b[0;31m---------------------------------------------------------------------------\u001b[0m",
            "\u001b[0;31mInvalidRequestError\u001b[0m                       Traceback (most recent call last)",
            "\u001b[0;32m<ipython-input-35-28c17be47c8a>\u001b[0m in \u001b[0;36m<module>\u001b[0;34m()\u001b[0m\n\u001b[1;32m      1\u001b[0m \u001b[0mprompt\u001b[0m \u001b[0;34m=\u001b[0m \u001b[0;34m\"B상점 운영시간 알려줘\"\u001b[0m\u001b[0;34m\u001b[0m\u001b[0;34m\u001b[0m\u001b[0m\n\u001b[0;32m----> 2\u001b[0;31m \u001b[0moutput\u001b[0m \u001b[0;34m=\u001b[0m \u001b[0mgpt\u001b[0m\u001b[0;34m.\u001b[0m\u001b[0msubmit_request\u001b[0m\u001b[0;34m(\u001b[0m\u001b[0mprompt\u001b[0m\u001b[0;34m)\u001b[0m\u001b[0;34m\u001b[0m\u001b[0;34m\u001b[0m\u001b[0m\n\u001b[0m\u001b[1;32m      3\u001b[0m \u001b[0moutput\u001b[0m\u001b[0;34m.\u001b[0m\u001b[0mchoices\u001b[0m\u001b[0;34m[\u001b[0m\u001b[0;36m0\u001b[0m\u001b[0;34m]\u001b[0m\u001b[0;34m[\u001b[0m\u001b[0;34m'text'\u001b[0m\u001b[0;34m]\u001b[0m\u001b[0;34m\u001b[0m\u001b[0;34m\u001b[0m\u001b[0m\n",
            "\u001b[0;32m/content/gpt3-sandbox/api/gpt.py\u001b[0m in \u001b[0;36msubmit_request\u001b[0;34m(self, prompt)\u001b[0m\n\u001b[1;32m    119\u001b[0m                                             \u001b[0mn\u001b[0m\u001b[0;34m=\u001b[0m\u001b[0;36m1\u001b[0m\u001b[0;34m,\u001b[0m\u001b[0;34m\u001b[0m\u001b[0;34m\u001b[0m\u001b[0m\n\u001b[1;32m    120\u001b[0m                                             \u001b[0mstream\u001b[0m\u001b[0;34m=\u001b[0m\u001b[0;32mFalse\u001b[0m\u001b[0;34m,\u001b[0m\u001b[0;34m\u001b[0m\u001b[0;34m\u001b[0m\u001b[0m\n\u001b[0;32m--> 121\u001b[0;31m                                             stop=self.stop)\n\u001b[0m\u001b[1;32m    122\u001b[0m         \u001b[0;32mreturn\u001b[0m \u001b[0mresponse\u001b[0m\u001b[0;34m\u001b[0m\u001b[0;34m\u001b[0m\u001b[0m\n\u001b[1;32m    123\u001b[0m \u001b[0;34m\u001b[0m\u001b[0m\n",
            "\u001b[0;32m/usr/local/lib/python3.7/dist-packages/openai/api_resources/completion.py\u001b[0m in \u001b[0;36mcreate\u001b[0;34m(cls, *args, **kwargs)\u001b[0m\n\u001b[1;32m     17\u001b[0m         \u001b[0;32mwhile\u001b[0m \u001b[0;32mTrue\u001b[0m\u001b[0;34m:\u001b[0m\u001b[0;34m\u001b[0m\u001b[0;34m\u001b[0m\u001b[0m\n\u001b[1;32m     18\u001b[0m             \u001b[0;32mtry\u001b[0m\u001b[0;34m:\u001b[0m\u001b[0;34m\u001b[0m\u001b[0;34m\u001b[0m\u001b[0m\n\u001b[0;32m---> 19\u001b[0;31m                 \u001b[0;32mreturn\u001b[0m \u001b[0msuper\u001b[0m\u001b[0;34m(\u001b[0m\u001b[0;34m)\u001b[0m\u001b[0;34m.\u001b[0m\u001b[0mcreate\u001b[0m\u001b[0;34m(\u001b[0m\u001b[0;34m*\u001b[0m\u001b[0margs\u001b[0m\u001b[0;34m,\u001b[0m \u001b[0;34m**\u001b[0m\u001b[0mkwargs\u001b[0m\u001b[0;34m)\u001b[0m\u001b[0;34m\u001b[0m\u001b[0;34m\u001b[0m\u001b[0m\n\u001b[0m\u001b[1;32m     20\u001b[0m             \u001b[0;32mexcept\u001b[0m \u001b[0mTryAgain\u001b[0m \u001b[0;32mas\u001b[0m \u001b[0me\u001b[0m\u001b[0;34m:\u001b[0m\u001b[0;34m\u001b[0m\u001b[0;34m\u001b[0m\u001b[0m\n\u001b[1;32m     21\u001b[0m                 \u001b[0;32mif\u001b[0m \u001b[0mtimeout\u001b[0m \u001b[0;32mis\u001b[0m \u001b[0;32mnot\u001b[0m \u001b[0;32mNone\u001b[0m \u001b[0;32mand\u001b[0m \u001b[0mtime\u001b[0m\u001b[0;34m.\u001b[0m\u001b[0mtime\u001b[0m\u001b[0;34m(\u001b[0m\u001b[0;34m)\u001b[0m \u001b[0;34m>\u001b[0m \u001b[0mstart\u001b[0m \u001b[0;34m+\u001b[0m \u001b[0mtimeout\u001b[0m\u001b[0;34m:\u001b[0m\u001b[0;34m\u001b[0m\u001b[0;34m\u001b[0m\u001b[0m\n",
            "\u001b[0;32m/usr/local/lib/python3.7/dist-packages/openai/api_resources/abstract/engine_api_resource.py\u001b[0m in \u001b[0;36mcreate\u001b[0;34m(cls, api_key, api_base, idempotency_key, request_id, api_version, organization, **params)\u001b[0m\n\u001b[1;32m     78\u001b[0m         \u001b[0mheaders\u001b[0m \u001b[0;34m=\u001b[0m \u001b[0mutil\u001b[0m\u001b[0;34m.\u001b[0m\u001b[0mpopulate_headers\u001b[0m\u001b[0;34m(\u001b[0m\u001b[0midempotency_key\u001b[0m\u001b[0;34m,\u001b[0m \u001b[0mrequest_id\u001b[0m\u001b[0;34m)\u001b[0m\u001b[0;34m\u001b[0m\u001b[0;34m\u001b[0m\u001b[0m\n\u001b[1;32m     79\u001b[0m         response, _, api_key = requestor.request(\n\u001b[0;32m---> 80\u001b[0;31m             \u001b[0;34m\"post\"\u001b[0m\u001b[0;34m,\u001b[0m \u001b[0murl\u001b[0m\u001b[0;34m,\u001b[0m \u001b[0mparams\u001b[0m\u001b[0;34m,\u001b[0m \u001b[0mheaders\u001b[0m\u001b[0;34m,\u001b[0m \u001b[0mstream\u001b[0m\u001b[0;34m=\u001b[0m\u001b[0mstream\u001b[0m\u001b[0;34m\u001b[0m\u001b[0;34m\u001b[0m\u001b[0m\n\u001b[0m\u001b[1;32m     81\u001b[0m         )\n\u001b[1;32m     82\u001b[0m \u001b[0;34m\u001b[0m\u001b[0m\n",
            "\u001b[0;32m/usr/local/lib/python3.7/dist-packages/openai/api_requestor.py\u001b[0m in \u001b[0;36mrequest\u001b[0;34m(self, method, url, params, headers, stream)\u001b[0m\n\u001b[1;32m    131\u001b[0m             \u001b[0mmethod\u001b[0m\u001b[0;34m.\u001b[0m\u001b[0mlower\u001b[0m\u001b[0;34m(\u001b[0m\u001b[0;34m)\u001b[0m\u001b[0;34m,\u001b[0m \u001b[0murl\u001b[0m\u001b[0;34m,\u001b[0m \u001b[0mparams\u001b[0m\u001b[0;34m,\u001b[0m \u001b[0mheaders\u001b[0m\u001b[0;34m,\u001b[0m \u001b[0mstream\u001b[0m\u001b[0;34m=\u001b[0m\u001b[0mstream\u001b[0m\u001b[0;34m\u001b[0m\u001b[0;34m\u001b[0m\u001b[0m\n\u001b[1;32m    132\u001b[0m         )\n\u001b[0;32m--> 133\u001b[0;31m         \u001b[0mresp\u001b[0m \u001b[0;34m=\u001b[0m \u001b[0mself\u001b[0m\u001b[0;34m.\u001b[0m\u001b[0minterpret_response\u001b[0m\u001b[0;34m(\u001b[0m\u001b[0mrbody\u001b[0m\u001b[0;34m,\u001b[0m \u001b[0mrcode\u001b[0m\u001b[0;34m,\u001b[0m \u001b[0mrheaders\u001b[0m\u001b[0;34m,\u001b[0m \u001b[0mstream\u001b[0m\u001b[0;34m=\u001b[0m\u001b[0mstream\u001b[0m\u001b[0;34m)\u001b[0m\u001b[0;34m\u001b[0m\u001b[0;34m\u001b[0m\u001b[0m\n\u001b[0m\u001b[1;32m    134\u001b[0m         \u001b[0;32mreturn\u001b[0m \u001b[0mresp\u001b[0m\u001b[0;34m,\u001b[0m \u001b[0mstream\u001b[0m\u001b[0;34m,\u001b[0m \u001b[0mmy_api_key\u001b[0m\u001b[0;34m\u001b[0m\u001b[0;34m\u001b[0m\u001b[0m\n\u001b[1;32m    135\u001b[0m \u001b[0;34m\u001b[0m\u001b[0m\n",
            "\u001b[0;32m/usr/local/lib/python3.7/dist-packages/openai/api_requestor.py\u001b[0m in \u001b[0;36minterpret_response\u001b[0;34m(self, rbody, rcode, rheaders, stream)\u001b[0m\n\u001b[1;32m    354\u001b[0m             )\n\u001b[1;32m    355\u001b[0m         \u001b[0;32melse\u001b[0m\u001b[0;34m:\u001b[0m\u001b[0;34m\u001b[0m\u001b[0;34m\u001b[0m\u001b[0m\n\u001b[0;32m--> 356\u001b[0;31m             \u001b[0;32mreturn\u001b[0m \u001b[0mself\u001b[0m\u001b[0;34m.\u001b[0m\u001b[0minterpret_response_line\u001b[0m\u001b[0;34m(\u001b[0m\u001b[0mrbody\u001b[0m\u001b[0;34m,\u001b[0m \u001b[0mrcode\u001b[0m\u001b[0;34m,\u001b[0m \u001b[0mrheaders\u001b[0m\u001b[0;34m,\u001b[0m \u001b[0mstream\u001b[0m\u001b[0;34m)\u001b[0m\u001b[0;34m\u001b[0m\u001b[0;34m\u001b[0m\u001b[0m\n\u001b[0m\u001b[1;32m    357\u001b[0m \u001b[0;34m\u001b[0m\u001b[0m\n\u001b[1;32m    358\u001b[0m     \u001b[0;32mdef\u001b[0m \u001b[0minterpret_response_line\u001b[0m\u001b[0;34m(\u001b[0m\u001b[0mself\u001b[0m\u001b[0;34m,\u001b[0m \u001b[0mrbody\u001b[0m\u001b[0;34m,\u001b[0m \u001b[0mrcode\u001b[0m\u001b[0;34m,\u001b[0m \u001b[0mrheaders\u001b[0m\u001b[0;34m,\u001b[0m \u001b[0mstream\u001b[0m\u001b[0;34m=\u001b[0m\u001b[0;32mFalse\u001b[0m\u001b[0;34m)\u001b[0m\u001b[0;34m:\u001b[0m\u001b[0;34m\u001b[0m\u001b[0;34m\u001b[0m\u001b[0m\n",
            "\u001b[0;32m/usr/local/lib/python3.7/dist-packages/openai/api_requestor.py\u001b[0m in \u001b[0;36minterpret_response_line\u001b[0;34m(self, rbody, rcode, rheaders, stream)\u001b[0m\n\u001b[1;32m    374\u001b[0m         \u001b[0;32mif\u001b[0m \u001b[0mstream_error\u001b[0m \u001b[0;32mor\u001b[0m \u001b[0;32mnot\u001b[0m \u001b[0;36m200\u001b[0m \u001b[0;34m<=\u001b[0m \u001b[0mrcode\u001b[0m \u001b[0;34m<\u001b[0m \u001b[0;36m300\u001b[0m\u001b[0;34m:\u001b[0m\u001b[0;34m\u001b[0m\u001b[0;34m\u001b[0m\u001b[0m\n\u001b[1;32m    375\u001b[0m             raise self.handle_error_response(\n\u001b[0;32m--> 376\u001b[0;31m                 \u001b[0mrbody\u001b[0m\u001b[0;34m,\u001b[0m \u001b[0mrcode\u001b[0m\u001b[0;34m,\u001b[0m \u001b[0mresp\u001b[0m\u001b[0;34m.\u001b[0m\u001b[0mdata\u001b[0m\u001b[0;34m,\u001b[0m \u001b[0mrheaders\u001b[0m\u001b[0;34m,\u001b[0m \u001b[0mstream_error\u001b[0m\u001b[0;34m=\u001b[0m\u001b[0mstream_error\u001b[0m\u001b[0;34m\u001b[0m\u001b[0;34m\u001b[0m\u001b[0m\n\u001b[0m\u001b[1;32m    377\u001b[0m             )\n\u001b[1;32m    378\u001b[0m \u001b[0;34m\u001b[0m\u001b[0m\n",
            "\u001b[0;31mInvalidRequestError\u001b[0m: This model's maximum context length is 2049 tokens, however you requested 2091 tokens (1991 in your prompt, 100 for the completion). Please reduce your prompt or completion length."
          ]
        }
      ]
    },
    {
      "cell_type": "code",
      "source": [
        ""
      ],
      "metadata": {
        "id": "3gaCkbNml4Wa"
      },
      "execution_count": null,
      "outputs": []
    }
  ]
}