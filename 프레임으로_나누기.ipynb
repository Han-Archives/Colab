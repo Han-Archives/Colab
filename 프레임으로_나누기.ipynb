{
  "nbformat": 4,
  "nbformat_minor": 0,
  "metadata": {
    "colab": {
      "name": "프레임으로 나누기.ipynb",
      "provenance": [],
      "mount_file_id": "1_nQRQNnOwLzRuNNfz2rqbtMCzrFuo94B",
      "authorship_tag": "ABX9TyOAq5xf0zLED76gDMqt3w1o",
      "include_colab_link": true
    },
    "kernelspec": {
      "name": "python3",
      "display_name": "Python 3"
    },
    "language_info": {
      "name": "python"
    }
  },
  "cells": [
    {
      "cell_type": "markdown",
      "metadata": {
        "id": "view-in-github",
        "colab_type": "text"
      },
      "source": [
        "<a href=\"https://colab.research.google.com/github/Han-Archives/Colab/blob/main/%ED%94%84%EB%A0%88%EC%9E%84%EC%9C%BC%EB%A1%9C_%EB%82%98%EB%88%84%EA%B8%B0.ipynb\" target=\"_parent\"><img src=\"https://colab.research.google.com/assets/colab-badge.svg\" alt=\"Open In Colab\"/></a>"
      ]
    },
    {
      "cell_type": "markdown",
      "source": [
        "이미지가 담겨있는 동영상에서 프레임을 추출하자"
      ],
      "metadata": {
        "id": "qu2AKWwTWNtX"
      }
    },
    {
      "cell_type": "code",
      "source": [
        "from google.colab import drive\n",
        "drive.mount('/content/drive')\n"
      ],
      "metadata": {
        "id": "BWteyRneWa8X"
      },
      "execution_count": null,
      "outputs": []
    },
    {
      "cell_type": "code",
      "execution_count": 1,
      "metadata": {
        "id": "6lZ8tkUDVPuM"
      },
      "outputs": [],
      "source": [
        "import cv2"
      ]
    },
    {
      "cell_type": "code",
      "source": [
        "## 동영상 1초당 2프레임으로 저장\n",
        "cap = cv2.VideoCapture(\"/content/drive/MyDrive/Data/computer_vision/video1.mp4\")\n",
        "\n",
        "# 코덱 정의\n",
        "fourcc = cv2.VideoWriter_fourcc(*'DIVX') # window의 경우 DIVX\n",
        "\n",
        "# 프레임 크기, FPS\n",
        "width = round(cap.get(cv2.CAP_PROP_FRAME_WIDTH))\n",
        "height = round(cap.get(cv2.CAP_PROP_FRAME_HEIGHT))\n",
        "\n",
        "# 파일명, 코덱, 1초당 프레임수, 너비와 넓이 - 동영상 저장\n",
        "#out = cv2.VideoWriter('video1.avi', fourcc, 30.0, (width, height))\n",
        "\n",
        "count = 0 # 프레임 번호 할당\n",
        "\n",
        "while cap.isOpened():\n",
        "    ret, frame = cap.read()\n",
        "    \n",
        "    if not ret:\n",
        "        break\n",
        "    \n",
        "    # 1초당 1프레임을 png로 저장\n",
        "    if(int(cap.get(1)) % 30==0):\n",
        "        cv2.imwrite('./\\\\id_001\\\\frame%d.png' % count, frame)\n",
        "        count += 1\n",
        "    \n",
        "    #frame = cv2.resize(frame, dsize=(0, 0), fx=0.5, fy=0.5, interpolation=cv2.INTER_AREA)\n",
        "    #cv2.imshow('video', frame) # 영상으로 출력\n",
        "    \n",
        "    if cv2.waitKey(1)& 0xFF == ord('q'):\n",
        "        break\n",
        "        \n",
        "cap.release()\n",
        "cv2.destroyAllWindows()"
      ],
      "metadata": {
        "colab": {
          "base_uri": "https://localhost:8080/",
          "height": 244
        },
        "id": "tEOMXPZkWsRI",
        "outputId": "c52cddcb-76f3-4101-b951-de332d6f573e"
      },
      "execution_count": 3,
      "outputs": [
        {
          "output_type": "error",
          "ename": "KeyboardInterrupt",
          "evalue": "ignored",
          "traceback": [
            "\u001b[0;31m---------------------------------------------------------------------------\u001b[0m",
            "\u001b[0;31mKeyboardInterrupt\u001b[0m                         Traceback (most recent call last)",
            "\u001b[0;32m<ipython-input-3-5316028d301a>\u001b[0m in \u001b[0;36m<module>\u001b[0;34m()\u001b[0m\n\u001b[1;32m     15\u001b[0m \u001b[0;34m\u001b[0m\u001b[0m\n\u001b[1;32m     16\u001b[0m \u001b[0;32mwhile\u001b[0m \u001b[0mcap\u001b[0m\u001b[0;34m.\u001b[0m\u001b[0misOpened\u001b[0m\u001b[0;34m(\u001b[0m\u001b[0;34m)\u001b[0m\u001b[0;34m:\u001b[0m\u001b[0;34m\u001b[0m\u001b[0;34m\u001b[0m\u001b[0m\n\u001b[0;32m---> 17\u001b[0;31m     \u001b[0mret\u001b[0m\u001b[0;34m,\u001b[0m \u001b[0mframe\u001b[0m \u001b[0;34m=\u001b[0m \u001b[0mcap\u001b[0m\u001b[0;34m.\u001b[0m\u001b[0mread\u001b[0m\u001b[0;34m(\u001b[0m\u001b[0;34m)\u001b[0m\u001b[0;34m\u001b[0m\u001b[0;34m\u001b[0m\u001b[0m\n\u001b[0m\u001b[1;32m     18\u001b[0m \u001b[0;34m\u001b[0m\u001b[0m\n\u001b[1;32m     19\u001b[0m     \u001b[0;32mif\u001b[0m \u001b[0;32mnot\u001b[0m \u001b[0mret\u001b[0m\u001b[0;34m:\u001b[0m\u001b[0;34m\u001b[0m\u001b[0;34m\u001b[0m\u001b[0m\n",
            "\u001b[0;31mKeyboardInterrupt\u001b[0m: "
          ]
        }
      ]
    }
  ]
}