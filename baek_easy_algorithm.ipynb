{
  "cells": [
    {
      "cell_type": "markdown",
      "metadata": {
        "id": "view-in-github",
        "colab_type": "text"
      },
      "source": [
        "<a href=\"https://colab.research.google.com/github/Han-Archives/Colab/blob/main/baek_easy_algorithm.ipynb\" target=\"_parent\"><img src=\"https://colab.research.google.com/assets/colab-badge.svg\" alt=\"Open In Colab\"/></a>"
      ]
    },
    {
      "cell_type": "markdown",
      "metadata": {
        "id": "xioAH5LWWzhw"
      },
      "source": [
        "푼 알고리즘 문제\n",
        "\n",
        "id_1000, id_1001\n",
        "\n",
        "id_2557"
      ]
    },
    {
      "cell_type": "markdown",
      "metadata": {
        "id": "Ft36pElIWHqZ"
      },
      "source": [
        "문제 2557 번\n",
        "\n",
        "문자열 \"Hello World!\" 출력하기"
      ]
    },
    {
      "cell_type": "code",
      "execution_count": null,
      "metadata": {
        "colab": {
          "base_uri": "https://localhost:8080/"
        },
        "id": "aDYHL2wKVzm9",
        "outputId": "4b886fef-20cd-417c-c9a9-8c8a0c48e03b"
      },
      "outputs": [
        {
          "name": "stdout",
          "output_type": "stream",
          "text": [
            "Hello World!\n"
          ]
        }
      ],
      "source": [
        "# 2557\n",
        "print(\"Hello World!\")"
      ]
    },
    {
      "cell_type": "markdown",
      "metadata": {
        "id": "nSySKXa2XARa"
      },
      "source": [
        "문제 1000 번\n",
        "\n",
        "두 숫자를 받고 합의 결과를 반환하라"
      ]
    },
    {
      "cell_type": "code",
      "execution_count": null,
      "metadata": {
        "colab": {
          "base_uri": "https://localhost:8080/"
        },
        "id": "6JOs_E9oWVMU",
        "outputId": "09db84c7-510e-43b5-ad8a-f15b0fe81b8b"
      },
      "outputs": [
        {
          "name": "stdout",
          "output_type": "stream",
          "text": [
            "1 2\n",
            "3\n"
          ]
        }
      ],
      "source": [
        "# 1000\n",
        "a, b = map(int,input().split())\n",
        "\n",
        "c = a+b\n",
        "print(c)"
      ]
    },
    {
      "cell_type": "markdown",
      "metadata": {
        "id": "VUIG-IHRYuph"
      },
      "source": [
        "문제 1001 번\n",
        "\n",
        "두 숫자를 받고 뺄셈의 결과를 반환하라"
      ]
    },
    {
      "cell_type": "code",
      "execution_count": null,
      "metadata": {
        "colab": {
          "base_uri": "https://localhost:8080/"
        },
        "id": "Yg7PeEacXMmZ",
        "outputId": "be0df2b9-f2c7-4317-c3a8-ae894de9b80d"
      },
      "outputs": [
        {
          "name": "stdout",
          "output_type": "stream",
          "text": [
            "3 2\n",
            "1\n"
          ]
        }
      ],
      "source": [
        "# 1001\n",
        "a, b = map(int,input().split())\n",
        "\n",
        "c = a-b\n",
        "print(c)"
      ]
    },
    {
      "cell_type": "markdown",
      "metadata": {
        "id": "64nykLU8YA08"
      },
      "source": [
        "문제 10171"
      ]
    },
    {
      "cell_type": "code",
      "execution_count": null,
      "metadata": {
        "colab": {
          "base_uri": "https://localhost:8080/"
        },
        "id": "lrYdeieIW_Kh",
        "outputId": "4fca392b-fa54-4303-be80-84ed5ef1149d"
      },
      "outputs": [
        {
          "name": "stdout",
          "output_type": "stream",
          "text": [
            "\\    /\\\n",
            " )  ( ')\n",
            "(  /  )\n",
            " \\(__)|\n"
          ]
        }
      ],
      "source": [
        "# 10171\n",
        "\n",
        "print(\"\\\\    /\\\\\")\n",
        "print(\" )  ( \\')\")\n",
        "print(\"(  /  )\")\n",
        "print(\" \\\\(__)|\")"
      ]
    },
    {
      "cell_type": "markdown",
      "metadata": {
        "id": "9lzapZJ1YUsb"
      },
      "source": [
        "문제 10172"
      ]
    },
    {
      "cell_type": "code",
      "execution_count": null,
      "metadata": {
        "colab": {
          "base_uri": "https://localhost:8080/"
        },
        "id": "rIoz8FYNYXBo",
        "outputId": "22466dcf-1d2d-426c-acc0-93b9ea6a298c"
      },
      "outputs": [
        {
          "name": "stdout",
          "output_type": "stream",
          "text": [
            "|\\_/|\n",
            "|q p|   /}\n",
            "( 0 )\"\"\"\\\n",
            "|\"^\"`    |\n",
            "||_/=\\\\__|\n"
          ]
        }
      ],
      "source": [
        "# 10172\n",
        "print(\"|\\\\_/|\")\n",
        "print(\"|q p|   /}\")\n",
        "print(\"( 0 )\\\"\\\"\\\"\\\\\")\n",
        "print(\"|\\\"^\\\"`    |\")\n",
        "print(\"||_/=\\\\\\\\__|\")\n"
      ]
    },
    {
      "cell_type": "markdown",
      "metadata": {
        "id": "FJ78hQh6Z6r1"
      },
      "source": [
        "문제 10998"
      ]
    },
    {
      "cell_type": "code",
      "execution_count": null,
      "metadata": {
        "colab": {
          "base_uri": "https://localhost:8080/"
        },
        "id": "uqXZwFeBZUS_",
        "outputId": "cabb1e2c-2f71-4fd2-dbcd-ae96549002af"
      },
      "outputs": [
        {
          "name": "stdout",
          "output_type": "stream",
          "text": [
            "3 4\n",
            "12\n"
          ]
        }
      ],
      "source": [
        "# 10998\n",
        "a, b = map(int, input().split())\n",
        "\n",
        "c = a*b\n",
        "print(c)"
      ]
    },
    {
      "cell_type": "markdown",
      "metadata": {
        "id": "Fvpdk5ZrcHFn"
      },
      "source": [
        "문제 15596"
      ]
    },
    {
      "cell_type": "code",
      "execution_count": null,
      "metadata": {
        "id": "lgsiW3XgZ37J"
      },
      "outputs": [],
      "source": [
        "# 15596\n",
        "def solve(a):\n",
        "  result = sum(a)\n",
        "\n",
        "  return result"
      ]
    },
    {
      "cell_type": "markdown",
      "metadata": {
        "id": "fOkEw5O_cfSg"
      },
      "source": [
        "문제 10869"
      ]
    },
    {
      "cell_type": "code",
      "execution_count": null,
      "metadata": {
        "colab": {
          "base_uri": "https://localhost:8080/"
        },
        "id": "LmlAMW_EcdLv",
        "outputId": "882e2225-71c1-48df-e0bb-5b5355bb7e26"
      },
      "outputs": [
        {
          "name": "stdout",
          "output_type": "stream",
          "text": [
            "7 3\n",
            "10\n",
            "4\n",
            "21\n",
            "2\n",
            "1\n"
          ]
        }
      ],
      "source": [
        "# 10869\n",
        "\n",
        "a,b = map(int,input().split())\n",
        "# equation\n",
        "sum_ = a+b\n",
        "sub_ = a-b\n",
        "mul_ = a*b\n",
        "div_ = int(a/b)\n",
        "mod_ = a%b\n",
        "\n",
        "# print\n",
        "print(sum_)\n",
        "print(sub_)\n",
        "print(mul_)\n",
        "print(div_)\n",
        "print(mod_)"
      ]
    },
    {
      "cell_type": "markdown",
      "metadata": {
        "id": "fyDWr5MeeZUa"
      },
      "source": [
        "문제 1008번"
      ]
    },
    {
      "cell_type": "code",
      "execution_count": null,
      "metadata": {
        "id": "eXdeKSczeY_q"
      },
      "outputs": [],
      "source": [
        "# 1008\n",
        "a, b = map(int, input().split())\n",
        "\n",
        "c = a/b\n",
        "\n",
        "print(c)"
      ]
    },
    {
      "cell_type": "markdown",
      "metadata": {
        "id": "2vA9vPSKezYe"
      },
      "source": [
        "문제 10430\n",
        "\n",
        "첫째 줄에 (A+B)%C, 둘째 줄에 ((A%C) + (B%C))%C, 셋째 줄에 (A×B)%C, 넷째 줄에 ((A%C) × (B%C))%C를 출력한다."
      ]
    },
    {
      "cell_type": "code",
      "execution_count": null,
      "metadata": {
        "colab": {
          "base_uri": "https://localhost:8080/"
        },
        "id": "42UbfkKleisT",
        "outputId": "232be82f-f9af-4123-bc9a-40de02066470"
      },
      "outputs": [
        {
          "name": "stdout",
          "output_type": "stream",
          "text": [
            "5 8 4\n",
            "1\n",
            "1\n",
            "0\n",
            "0\n"
          ]
        }
      ],
      "source": [
        "# 10430\n",
        "\n",
        "a,b,c = map(int,input().split())\n",
        "\n",
        "line1 = (a+b)%c\n",
        "line2 = ((a%c)+(b%c))%c\n",
        "line3 = (a*b)%c\n",
        "line4 = ((a%c)*(b%c))%c\n",
        "\n",
        "print(line1)\n",
        "print(line2)\n",
        "print(line3)\n",
        "print(line4)"
      ]
    },
    {
      "cell_type": "markdown",
      "metadata": {
        "id": "8GdiBIwih0RQ"
      },
      "source": [
        "문제 2558"
      ]
    },
    {
      "cell_type": "code",
      "execution_count": null,
      "metadata": {
        "colab": {
          "base_uri": "https://localhost:8080/",
          "height": 281
        },
        "id": "IBpGebkzfQ0G",
        "outputId": "dbfe4b40-a850-4504-debd-1dd4b617ae53"
      },
      "outputs": [
        {
          "name": "stdout",
          "output_type": "stream",
          "text": [
            "472\n",
            "385\n"
          ]
        },
        {
          "ename": "TypeError",
          "evalue": "ignored",
          "output_type": "error",
          "traceback": [
            "\u001b[0;31m---------------------------------------------------------------------------\u001b[0m",
            "\u001b[0;31mTypeError\u001b[0m                                 Traceback (most recent call last)",
            "\u001b[0;32m<ipython-input-13-ecb4f5155d0c>\u001b[0m in \u001b[0;36m<module>\u001b[0;34m()\u001b[0m\n\u001b[1;32m      4\u001b[0m \u001b[0mb\u001b[0m \u001b[0;34m=\u001b[0m \u001b[0mmap\u001b[0m\u001b[0;34m(\u001b[0m\u001b[0mint\u001b[0m\u001b[0;34m,\u001b[0m \u001b[0minput\u001b[0m\u001b[0;34m(\u001b[0m\u001b[0;34m)\u001b[0m\u001b[0;34m)\u001b[0m\u001b[0;34m\u001b[0m\u001b[0;34m\u001b[0m\u001b[0m\n\u001b[1;32m      5\u001b[0m \u001b[0;34m\u001b[0m\u001b[0m\n\u001b[0;32m----> 6\u001b[0;31m \u001b[0mb_100\u001b[0m \u001b[0;34m=\u001b[0m \u001b[0mint\u001b[0m\u001b[0;34m(\u001b[0m\u001b[0mb\u001b[0m\u001b[0;34m/\u001b[0m\u001b[0;36m100\u001b[0m\u001b[0;34m)\u001b[0m\u001b[0;34m\u001b[0m\u001b[0;34m\u001b[0m\u001b[0m\n\u001b[0m\u001b[1;32m      7\u001b[0m \u001b[0mb_10\u001b[0m \u001b[0;34m=\u001b[0m \u001b[0mint\u001b[0m\u001b[0;34m(\u001b[0m\u001b[0mb\u001b[0m\u001b[0;34m/\u001b[0m\u001b[0;36m10\u001b[0m\u001b[0;34m)\u001b[0m \u001b[0;34m-\u001b[0m \u001b[0mb_100\u001b[0m\u001b[0;34m*\u001b[0m\u001b[0;36m10\u001b[0m\u001b[0;34m\u001b[0m\u001b[0;34m\u001b[0m\u001b[0m\n\u001b[1;32m      8\u001b[0m \u001b[0mb_1\u001b[0m \u001b[0;34m=\u001b[0m \u001b[0mb\u001b[0m\u001b[0;34m-\u001b[0m\u001b[0;34m(\u001b[0m\u001b[0mb_100\u001b[0m\u001b[0;34m*\u001b[0m\u001b[0;36m100\u001b[0m\u001b[0;34m+\u001b[0m\u001b[0mb_10\u001b[0m\u001b[0;34m*\u001b[0m\u001b[0;36m10\u001b[0m\u001b[0;34m)\u001b[0m\u001b[0;34m\u001b[0m\u001b[0;34m\u001b[0m\u001b[0m\n",
            "\u001b[0;31mTypeError\u001b[0m: unsupported operand type(s) for /: 'map' and 'int'"
          ]
        }
      ],
      "source": [
        "# 2558\n",
        "\n",
        "a = int(input())\n",
        "b = int(input())\n",
        "\n",
        "b_100 = int(b/100)\n",
        "b_10 = int(b/10) - b_100*10\n",
        "b_1 = b-(b_100*100+b_10*10)\n",
        "\n",
        "line3 = a*b_1\n",
        "line4 = a*b_10\n",
        "line5 = a*b_100\n",
        "line6 = line3+line4*10+line5*100\n",
        "\n",
        "print(line3)\n",
        "print(line4)\n",
        "print(line5)\n",
        "print(line6)"
      ]
    },
    {
      "cell_type": "markdown",
      "metadata": {
        "id": "Qm9847g-iazm"
      },
      "source": [
        "문제 1330번"
      ]
    },
    {
      "cell_type": "code",
      "execution_count": null,
      "metadata": {
        "colab": {
          "base_uri": "https://localhost:8080/"
        },
        "id": "7TA4aKHchHSQ",
        "outputId": "13dd0f6e-ac8e-4a40-c3ae-758378e9af9e"
      },
      "outputs": [
        {
          "name": "stdout",
          "output_type": "stream",
          "text": [
            "10 5\n",
            ">\n"
          ]
        }
      ],
      "source": [
        "# 1330\n",
        "a, b = map(int, input().split())\n",
        "\n",
        "if a>b:\n",
        "  print(\">\")\n",
        "elif a==b:\n",
        "  print(\"==\")\n",
        "else:\n",
        "  print(\"<\")"
      ]
    },
    {
      "cell_type": "markdown",
      "metadata": {
        "id": "uvvlgt56jIhd"
      },
      "source": [
        "문제 9498번"
      ]
    },
    {
      "cell_type": "code",
      "execution_count": null,
      "metadata": {
        "colab": {
          "base_uri": "https://localhost:8080/"
        },
        "id": "2qMbwMNciuvs",
        "outputId": "c0b07158-555e-4ca9-de90-dd160c0f1a52"
      },
      "outputs": [
        {
          "name": "stdout",
          "output_type": "stream",
          "text": [
            "79\n",
            "C\n"
          ]
        }
      ],
      "source": [
        "# 9498\n",
        "a = int(input())\n",
        "\n",
        "if 89<a:\n",
        "  print(\"A\")\n",
        "elif 79<a<90:\n",
        "  print(\"B\")\n",
        "elif 69<a<80:\n",
        "  print(\"C\")\n",
        "elif 59<a<70:\n",
        "  print(\"D\")\n",
        "else:\n",
        "  print(\"F\")"
      ]
    },
    {
      "cell_type": "markdown",
      "metadata": {
        "id": "8QJtWDbkkNon"
      },
      "source": [
        "문제 2753번"
      ]
    },
    {
      "cell_type": "code",
      "execution_count": null,
      "metadata": {
        "colab": {
          "base_uri": "https://localhost:8080/"
        },
        "id": "btF3ifSdjtK2",
        "outputId": "df11b1b5-2796-4f51-de4f-d32e2ab85bbb"
      },
      "outputs": [
        {
          "name": "stdout",
          "output_type": "stream",
          "text": [
            "1900\n",
            "0\n"
          ]
        }
      ],
      "source": [
        "# 2753\n",
        "a = int(input())\n",
        "\n",
        "if a%4 == 0 and (a%100 != 0) or (a%400 == 0):\n",
        "  print(1)\n",
        "else:\n",
        "  print(0)"
      ]
    },
    {
      "cell_type": "markdown",
      "metadata": {
        "id": "F51_aoVIlzGS"
      },
      "source": [
        "문제 14681번"
      ]
    },
    {
      "cell_type": "code",
      "execution_count": null,
      "metadata": {
        "id": "VYrEFFPKjr8R"
      },
      "outputs": [],
      "source": [
        "# 14681\n",
        "a = int(input())\n",
        "b = int(input())\n",
        "\n",
        "if a>0:\n",
        "  if b>0:\n",
        "    print(1)\n",
        "  else:\n",
        "    print(4)\n",
        "elif a<0:\n",
        "  if b>0:\n",
        "    print(2)\n",
        "  else:\n",
        "    print(3)\n"
      ]
    },
    {
      "cell_type": "markdown",
      "metadata": {
        "id": "LAqgDnOjmwSv"
      },
      "source": [
        "문제 2884번"
      ]
    },
    {
      "cell_type": "code",
      "execution_count": null,
      "metadata": {
        "colab": {
          "base_uri": "https://localhost:8080/"
        },
        "id": "GMaA4RUPo32q",
        "outputId": "8d49fa6c-75a2-42de-bf8c-9b61da19f53d"
      },
      "outputs": [
        {
          "name": "stdout",
          "output_type": "stream",
          "text": [
            "13 45\n",
            "13 0\n"
          ]
        }
      ],
      "source": [
        "# 2884\n",
        "a, b = map(int, input().split())\n",
        "\n",
        "if b<45:\n",
        "  if a==0:\n",
        "    a = 23\n",
        "    d = b+15\n",
        "  else:\n",
        "    a = a-1\n",
        "    d = b+15\n",
        "\n",
        "elif b>45:\n",
        "  d = b-45\n",
        "\n",
        "else:\n",
        "  d = 0\n",
        "\n",
        "print('{0} {1}'.format(a,d))"
      ]
    },
    {
      "cell_type": "markdown",
      "metadata": {
        "id": "tU1r_Uv9tDTF"
      },
      "source": [
        "문제 2739번"
      ]
    },
    {
      "cell_type": "code",
      "execution_count": null,
      "metadata": {
        "colab": {
          "base_uri": "https://localhost:8080/"
        },
        "id": "bwVvYqNMpsK8",
        "outputId": "133d189a-83c1-4534-c548-14190463b3cf"
      },
      "outputs": [
        {
          "name": "stdout",
          "output_type": "stream",
          "text": [
            "2\n",
            "2 * 1 = 2\n",
            "2 * 2 = 4\n",
            "2 * 3 = 6\n",
            "2 * 4 = 8\n",
            "2 * 5 = 10\n",
            "2 * 6 = 12\n",
            "2 * 7 = 14\n",
            "2 * 8 = 16\n",
            "2 * 9 = 18\n"
          ]
        }
      ],
      "source": [
        "# 2739\n",
        "a = int(input())\n",
        "\n",
        "for i in range(9):\n",
        "  i = i+1\n",
        "  b = a*i\n",
        "  print(\"{0} * {1} = {2}\".format(a,i,b))"
      ]
    },
    {
      "cell_type": "markdown",
      "metadata": {
        "id": "e9lWNi-Uu1YH"
      },
      "source": [
        "문제 10950번"
      ]
    },
    {
      "cell_type": "code",
      "execution_count": null,
      "metadata": {
        "colab": {
          "base_uri": "https://localhost:8080/"
        },
        "id": "Le7wu9Ret_HJ",
        "outputId": "21c6a20b-257c-4981-c714-5701151ac2c0"
      },
      "outputs": [
        {
          "name": "stdout",
          "output_type": "stream",
          "text": [
            "5\n",
            "1 1\n",
            "2\n",
            "2 3\n",
            "5\n",
            "3 4\n",
            "7\n",
            "9 8\n",
            "17\n",
            "5 2\n",
            "7\n"
          ]
        }
      ],
      "source": [
        "# 10950\n",
        "\n",
        "times = int(input())\n",
        "\n",
        "for _ in range(times):\n",
        "  a,b = map(int,input().split())\n",
        "  c= a+b\n",
        "\n",
        "  print(c)"
      ]
    },
    {
      "cell_type": "markdown",
      "metadata": {
        "id": "xDGNOOl3wquP"
      },
      "source": [
        "문제 8393번 - 풀이 중 끔 여기서 부터"
      ]
    },
    {
      "cell_type": "code",
      "execution_count": null,
      "metadata": {
        "colab": {
          "base_uri": "https://localhost:8080/"
        },
        "id": "zHaWohNopWDW",
        "outputId": "2e58e26d-d0b0-4eac-dbe9-6897d829b9c0"
      },
      "outputs": [
        {
          "name": "stdout",
          "output_type": "stream",
          "text": [
            "100\n",
            "5050\n"
          ]
        }
      ],
      "source": [
        "# 8393\n",
        "\n",
        "times = int(input())\n",
        "\n",
        "result = 0\n",
        "for i in range(times):\n",
        "  i += 1\n",
        "  result = result + i\n",
        "\n",
        "\n",
        "\n",
        "print(result)"
      ]
    },
    {
      "cell_type": "markdown",
      "metadata": {
        "id": "0aWSX-V-k-2e"
      },
      "source": [
        "문제 15552번 \n",
        "\n",
        "- 빠른 A+B\n",
        "\n",
        "기존의 input 방식의 속도가 느리기 때문에 아래와 같이 sys.stdin.readline을 input대신 활용하자."
      ]
    },
    {
      "cell_type": "code",
      "execution_count": null,
      "metadata": {
        "colab": {
          "base_uri": "https://localhost:8080/",
          "height": 244
        },
        "id": "q-ix1WzdyFdY",
        "outputId": "0c464b41-5b93-4f10-a612-3d0b8ad3922b"
      },
      "outputs": [
        {
          "ename": "ValueError",
          "evalue": "ignored",
          "output_type": "error",
          "traceback": [
            "\u001b[0;31m---------------------------------------------------------------------------\u001b[0m",
            "\u001b[0;31mValueError\u001b[0m                                Traceback (most recent call last)",
            "\u001b[0;32m<ipython-input-1-b5eaa461395e>\u001b[0m in \u001b[0;36m<module>\u001b[0;34m()\u001b[0m\n\u001b[1;32m      2\u001b[0m \u001b[0;32mimport\u001b[0m \u001b[0msys\u001b[0m\u001b[0;34m\u001b[0m\u001b[0;34m\u001b[0m\u001b[0m\n\u001b[1;32m      3\u001b[0m \u001b[0;34m\u001b[0m\u001b[0m\n\u001b[0;32m----> 4\u001b[0;31m \u001b[0mtimes\u001b[0m \u001b[0;34m=\u001b[0m \u001b[0mint\u001b[0m\u001b[0;34m(\u001b[0m\u001b[0msys\u001b[0m\u001b[0;34m.\u001b[0m\u001b[0mstdin\u001b[0m\u001b[0;34m.\u001b[0m\u001b[0mreadline\u001b[0m\u001b[0;34m(\u001b[0m\u001b[0;34m)\u001b[0m\u001b[0;34m)\u001b[0m\u001b[0;34m\u001b[0m\u001b[0;34m\u001b[0m\u001b[0m\n\u001b[0m\u001b[1;32m      5\u001b[0m \u001b[0;34m\u001b[0m\u001b[0m\n\u001b[1;32m      6\u001b[0m \u001b[0;32mfor\u001b[0m \u001b[0mi\u001b[0m \u001b[0;32min\u001b[0m \u001b[0mrange\u001b[0m\u001b[0;34m(\u001b[0m\u001b[0mtimes\u001b[0m\u001b[0;34m)\u001b[0m\u001b[0;34m:\u001b[0m\u001b[0;34m\u001b[0m\u001b[0;34m\u001b[0m\u001b[0m\n",
            "\u001b[0;31mValueError\u001b[0m: invalid literal for int() with base 10: ''"
          ]
        }
      ],
      "source": [
        "# 15552\n",
        "import sys\n",
        "\n",
        "times = int(sys.stdin.readline())\n",
        "\n",
        "for i in range(times):\n",
        "  a,b = map(int, sys.stdin.readline().split())\n",
        "  print(a+b)"
      ]
    },
    {
      "cell_type": "markdown",
      "metadata": {
        "id": "qI7lpjDJwc5T"
      },
      "source": [
        "문제 2741 번"
      ]
    },
    {
      "cell_type": "code",
      "execution_count": null,
      "metadata": {
        "colab": {
          "base_uri": "https://localhost:8080/"
        },
        "id": "LRDwzcSanBWF",
        "outputId": "9480df48-c2fa-4c74-abeb-e783a89f8bc7"
      },
      "outputs": [
        {
          "name": "stdout",
          "output_type": "stream",
          "text": [
            "5\n",
            "1\n",
            "2\n",
            "3\n",
            "4\n",
            "5\n"
          ]
        }
      ],
      "source": [
        "# 2741\n",
        "times = int(input())\n",
        "for i in range(times):\n",
        "    i = i+1\n",
        "    print(i)"
      ]
    },
    {
      "cell_type": "markdown",
      "metadata": {
        "id": "oD53JXfuw2wJ"
      },
      "source": [
        "문제 2742번"
      ]
    },
    {
      "cell_type": "code",
      "execution_count": null,
      "metadata": {
        "colab": {
          "base_uri": "https://localhost:8080/"
        },
        "id": "lMNjEQIpx8rC",
        "outputId": "f7486a65-1ba6-4950-8658-bdd5ad603c93"
      },
      "outputs": [
        {
          "name": "stdout",
          "output_type": "stream",
          "text": [
            "5\n",
            "5\n",
            "4\n",
            "3\n",
            "2\n",
            "1\n"
          ]
        }
      ],
      "source": [
        "# 2742\n",
        "times = int(input())\n",
        "for i in range(times):\n",
        "  if times == 0:\n",
        "    break\n",
        "  else:\n",
        "    print(times)\n",
        "    times = times - 1"
      ]
    },
    {
      "cell_type": "markdown",
      "metadata": {
        "id": "RW1CUexUxrSd"
      },
      "source": [
        "문제 11021번"
      ]
    },
    {
      "cell_type": "code",
      "execution_count": null,
      "metadata": {
        "colab": {
          "base_uri": "https://localhost:8080/"
        },
        "id": "aBF-1V1-xthn",
        "outputId": "aebbc5c8-5773-4dc6-e48b-dd00cd21ab82"
      },
      "outputs": [
        {
          "name": "stdout",
          "output_type": "stream",
          "text": [
            "5\n",
            "1 1\n",
            "Case #1: 2\n",
            "2 3\n",
            "Case #2: 5\n",
            "3 5\n",
            "Case #3: 8\n",
            "4 6\n",
            "Case #4: 10\n",
            "1 4\n",
            "Case #5: 5\n"
          ]
        }
      ],
      "source": [
        "# 11021\n",
        "\n",
        "times = int(input())\n",
        "\n",
        "for i in range(times):\n",
        "  i = i+1\n",
        "  a,b = map(int, input().split())\n",
        "  c = a+b\n",
        "  print(\"Case #{0}: {1}\".format(i, c))"
      ]
    },
    {
      "cell_type": "markdown",
      "metadata": {
        "id": "BgTBvCtC6TFS"
      },
      "source": [
        "문제 11022번\n",
        "\n"
      ]
    },
    {
      "cell_type": "code",
      "execution_count": null,
      "metadata": {
        "id": "P4QyaUBm6TM9"
      },
      "outputs": [],
      "source": [
        "# 11022\n",
        "\n",
        "times = int(input())\n",
        "\n",
        "for i in range(times):\n",
        "  i = i+1\n",
        "  a,b = map(int, input().split())\n",
        "  c = a+b\n",
        "  print(\"Case #{0}: {1} + {2} = {3}\".format(i, a,b,c))"
      ]
    },
    {
      "cell_type": "markdown",
      "metadata": {
        "id": "MqnqzRCp0h37"
      },
      "source": [
        "문제 3046"
      ]
    },
    {
      "cell_type": "code",
      "execution_count": null,
      "metadata": {
        "colab": {
          "base_uri": "https://localhost:8080/"
        },
        "id": "Hc7mWOW30kxL",
        "outputId": "714b4ff7-4d4e-4a5a-8680-4b809a184fbf"
      },
      "outputs": [
        {
          "name": "stdout",
          "output_type": "stream",
          "text": [
            "11 15\n",
            "19\n"
          ]
        }
      ],
      "source": [
        "# 3046\n",
        "r1, s = map(int, input().split())\n",
        "\n",
        "r2 = 2*s - r1\n",
        "print(r2)\n",
        "\n"
      ]
    },
    {
      "cell_type": "markdown",
      "metadata": {
        "id": "oQwkSenG218y"
      },
      "source": [
        "문제 2438번"
      ]
    },
    {
      "cell_type": "code",
      "execution_count": null,
      "metadata": {
        "colab": {
          "base_uri": "https://localhost:8080/"
        },
        "id": "UX95pQBfyzdQ",
        "outputId": "9a04f8f8-b186-4d70-ee96-0df76a598d4d"
      },
      "outputs": [
        {
          "name": "stdout",
          "output_type": "stream",
          "text": [
            "4\n",
            "*\n",
            "**\n",
            "***\n",
            "****\n"
          ]
        }
      ],
      "source": [
        "# 2438\n",
        "times = int(input())\n",
        "for i in range(times):\n",
        "  i = i+1\n",
        "  output = '*'*i\n",
        "  print(output)"
      ]
    },
    {
      "cell_type": "markdown",
      "metadata": {
        "id": "2S4kZbJ-7L40"
      },
      "source": [
        "문제 2439번"
      ]
    },
    {
      "cell_type": "code",
      "execution_count": null,
      "metadata": {
        "colab": {
          "base_uri": "https://localhost:8080/"
        },
        "id": "7Z8P9T7M7MD_",
        "outputId": "875c300c-e379-451b-a45c-9742258ef743"
      },
      "outputs": [
        {
          "name": "stdout",
          "output_type": "stream",
          "text": [
            "5\n",
            "    *\n",
            "   **\n",
            "  ***\n",
            " ****\n",
            "*****\n"
          ]
        }
      ],
      "source": [
        "# 2439\n",
        "times = int(input())\n",
        "for i in range(times):\n",
        "  i = i+1\n",
        "  times = times-1\n",
        "  output = ' '*times +'*'*i\n",
        "  print(output)"
      ]
    },
    {
      "cell_type": "markdown",
      "metadata": {
        "id": "4AvpREAk8wef"
      },
      "source": [
        "문제 10871"
      ]
    },
    {
      "cell_type": "code",
      "execution_count": null,
      "metadata": {
        "colab": {
          "base_uri": "https://localhost:8080/"
        },
        "id": "C_BzBfk-8yIy",
        "outputId": "9d6f8162-33ef-4e7d-fe80-b0c7bceda954"
      },
      "outputs": [
        {
          "name": "stdout",
          "output_type": "stream",
          "text": [
            "10 5\n",
            "1 10 4 9 2 3 8 5 7 6\n",
            "1\n",
            "4\n",
            "2\n",
            "3\n"
          ]
        }
      ],
      "source": [
        "# 10871\n",
        "\n",
        "a, b = map(int,input().split())\n",
        "\n",
        "small_list = []\n",
        "num = map(int,input().split())\n",
        "for i in range(a):\n",
        "  num = list(num)\n",
        "  if b > num[i]:\n",
        "    print(num[i])\n",
        "\n"
      ]
    },
    {
      "cell_type": "markdown",
      "metadata": {
        "id": "sWfwzVyZ_w-N"
      },
      "source": [
        "문제 10926번"
      ]
    },
    {
      "cell_type": "code",
      "execution_count": null,
      "metadata": {
        "colab": {
          "base_uri": "https://localhost:8080/"
        },
        "id": "Tl3PP85t_1dP",
        "outputId": "75d76dce-e86c-4fda-89ec-d7642680a950"
      },
      "outputs": [
        {
          "name": "stdout",
          "output_type": "stream",
          "text": [
            "joa\n",
            "joa??!\n"
          ]
        }
      ],
      "source": [
        "# 10926\n",
        "\n",
        "a = input()\n",
        "\n",
        "print(a+\"??!\")"
      ]
    },
    {
      "cell_type": "markdown",
      "metadata": {
        "id": "8jwJvBqwAv11"
      },
      "source": [
        "문제 18108번"
      ]
    },
    {
      "cell_type": "code",
      "execution_count": null,
      "metadata": {
        "colab": {
          "base_uri": "https://localhost:8080/",
          "height": 558
        },
        "id": "ChY8o4sBAHEV",
        "outputId": "1840eb70-1be4-4b44-81a5-7e36b5cd30be"
      },
      "outputs": [
        {
          "ename": "KeyboardInterrupt",
          "evalue": "ignored",
          "output_type": "error",
          "traceback": [
            "\u001b[0;31m---------------------------------------------------------------------------\u001b[0m",
            "\u001b[0;31mKeyboardInterrupt\u001b[0m                         Traceback (most recent call last)",
            "\u001b[0;32m/usr/local/lib/python3.7/dist-packages/ipykernel/kernelbase.py\u001b[0m in \u001b[0;36m_input_request\u001b[0;34m(self, prompt, ident, parent, password)\u001b[0m\n\u001b[1;32m    728\u001b[0m             \u001b[0;32mtry\u001b[0m\u001b[0;34m:\u001b[0m\u001b[0;34m\u001b[0m\u001b[0;34m\u001b[0m\u001b[0m\n\u001b[0;32m--> 729\u001b[0;31m                 \u001b[0mident\u001b[0m\u001b[0;34m,\u001b[0m \u001b[0mreply\u001b[0m \u001b[0;34m=\u001b[0m \u001b[0mself\u001b[0m\u001b[0;34m.\u001b[0m\u001b[0msession\u001b[0m\u001b[0;34m.\u001b[0m\u001b[0mrecv\u001b[0m\u001b[0;34m(\u001b[0m\u001b[0mself\u001b[0m\u001b[0;34m.\u001b[0m\u001b[0mstdin_socket\u001b[0m\u001b[0;34m,\u001b[0m \u001b[0;36m0\u001b[0m\u001b[0;34m)\u001b[0m\u001b[0;34m\u001b[0m\u001b[0;34m\u001b[0m\u001b[0m\n\u001b[0m\u001b[1;32m    730\u001b[0m             \u001b[0;32mexcept\u001b[0m \u001b[0mException\u001b[0m\u001b[0;34m:\u001b[0m\u001b[0;34m\u001b[0m\u001b[0;34m\u001b[0m\u001b[0m\n",
            "\u001b[0;32m/usr/local/lib/python3.7/dist-packages/jupyter_client/session.py\u001b[0m in \u001b[0;36mrecv\u001b[0;34m(self, socket, mode, content, copy)\u001b[0m\n\u001b[1;32m    802\u001b[0m         \u001b[0;32mtry\u001b[0m\u001b[0;34m:\u001b[0m\u001b[0;34m\u001b[0m\u001b[0;34m\u001b[0m\u001b[0m\n\u001b[0;32m--> 803\u001b[0;31m             \u001b[0mmsg_list\u001b[0m \u001b[0;34m=\u001b[0m \u001b[0msocket\u001b[0m\u001b[0;34m.\u001b[0m\u001b[0mrecv_multipart\u001b[0m\u001b[0;34m(\u001b[0m\u001b[0mmode\u001b[0m\u001b[0;34m,\u001b[0m \u001b[0mcopy\u001b[0m\u001b[0;34m=\u001b[0m\u001b[0mcopy\u001b[0m\u001b[0;34m)\u001b[0m\u001b[0;34m\u001b[0m\u001b[0;34m\u001b[0m\u001b[0m\n\u001b[0m\u001b[1;32m    804\u001b[0m         \u001b[0;32mexcept\u001b[0m \u001b[0mzmq\u001b[0m\u001b[0;34m.\u001b[0m\u001b[0mZMQError\u001b[0m \u001b[0;32mas\u001b[0m \u001b[0me\u001b[0m\u001b[0;34m:\u001b[0m\u001b[0;34m\u001b[0m\u001b[0;34m\u001b[0m\u001b[0m\n",
            "\u001b[0;32m/usr/local/lib/python3.7/dist-packages/zmq/sugar/socket.py\u001b[0m in \u001b[0;36mrecv_multipart\u001b[0;34m(self, flags, copy, track)\u001b[0m\n\u001b[1;32m    624\u001b[0m         \"\"\"\n\u001b[0;32m--> 625\u001b[0;31m         \u001b[0mparts\u001b[0m \u001b[0;34m=\u001b[0m \u001b[0;34m[\u001b[0m\u001b[0mself\u001b[0m\u001b[0;34m.\u001b[0m\u001b[0mrecv\u001b[0m\u001b[0;34m(\u001b[0m\u001b[0mflags\u001b[0m\u001b[0;34m,\u001b[0m \u001b[0mcopy\u001b[0m\u001b[0;34m=\u001b[0m\u001b[0mcopy\u001b[0m\u001b[0;34m,\u001b[0m \u001b[0mtrack\u001b[0m\u001b[0;34m=\u001b[0m\u001b[0mtrack\u001b[0m\u001b[0;34m)\u001b[0m\u001b[0;34m]\u001b[0m\u001b[0;34m\u001b[0m\u001b[0;34m\u001b[0m\u001b[0m\n\u001b[0m\u001b[1;32m    626\u001b[0m         \u001b[0;31m# have first part already, only loop while more to receive\u001b[0m\u001b[0;34m\u001b[0m\u001b[0;34m\u001b[0m\u001b[0;34m\u001b[0m\u001b[0m\n",
            "\u001b[0;32mzmq/backend/cython/socket.pyx\u001b[0m in \u001b[0;36mzmq.backend.cython.socket.Socket.recv\u001b[0;34m()\u001b[0m\n",
            "\u001b[0;32mzmq/backend/cython/socket.pyx\u001b[0m in \u001b[0;36mzmq.backend.cython.socket.Socket.recv\u001b[0;34m()\u001b[0m\n",
            "\u001b[0;32mzmq/backend/cython/socket.pyx\u001b[0m in \u001b[0;36mzmq.backend.cython.socket._recv_copy\u001b[0;34m()\u001b[0m\n",
            "\u001b[0;32m/usr/local/lib/python3.7/dist-packages/zmq/backend/cython/checkrc.pxd\u001b[0m in \u001b[0;36mzmq.backend.cython.checkrc._check_rc\u001b[0;34m()\u001b[0m\n",
            "\u001b[0;31mKeyboardInterrupt\u001b[0m: ",
            "\nDuring handling of the above exception, another exception occurred:\n",
            "\u001b[0;31mKeyboardInterrupt\u001b[0m                         Traceback (most recent call last)",
            "\u001b[0;32m<ipython-input-1-57a99601bb2c>\u001b[0m in \u001b[0;36m<module>\u001b[0;34m()\u001b[0m\n\u001b[1;32m      1\u001b[0m \u001b[0;31m# 18108\u001b[0m\u001b[0;34m\u001b[0m\u001b[0;34m\u001b[0m\u001b[0;34m\u001b[0m\u001b[0m\n\u001b[1;32m      2\u001b[0m \u001b[0;34m\u001b[0m\u001b[0m\n\u001b[0;32m----> 3\u001b[0;31m \u001b[0ma\u001b[0m \u001b[0;34m=\u001b[0m \u001b[0mint\u001b[0m\u001b[0;34m(\u001b[0m\u001b[0minput\u001b[0m\u001b[0;34m(\u001b[0m\u001b[0;34m)\u001b[0m\u001b[0;34m)\u001b[0m\u001b[0;34m\u001b[0m\u001b[0;34m\u001b[0m\u001b[0m\n\u001b[0m\u001b[1;32m      4\u001b[0m \u001b[0mb\u001b[0m \u001b[0;34m=\u001b[0m \u001b[0ma\u001b[0m\u001b[0;34m-\u001b[0m\u001b[0;36m543\u001b[0m\u001b[0;34m\u001b[0m\u001b[0;34m\u001b[0m\u001b[0m\n\u001b[1;32m      5\u001b[0m \u001b[0;34m\u001b[0m\u001b[0m\n",
            "\u001b[0;32m/usr/local/lib/python3.7/dist-packages/ipykernel/kernelbase.py\u001b[0m in \u001b[0;36mraw_input\u001b[0;34m(self, prompt)\u001b[0m\n\u001b[1;32m    702\u001b[0m             \u001b[0mself\u001b[0m\u001b[0;34m.\u001b[0m\u001b[0m_parent_ident\u001b[0m\u001b[0;34m,\u001b[0m\u001b[0;34m\u001b[0m\u001b[0;34m\u001b[0m\u001b[0m\n\u001b[1;32m    703\u001b[0m             \u001b[0mself\u001b[0m\u001b[0;34m.\u001b[0m\u001b[0m_parent_header\u001b[0m\u001b[0;34m,\u001b[0m\u001b[0;34m\u001b[0m\u001b[0;34m\u001b[0m\u001b[0m\n\u001b[0;32m--> 704\u001b[0;31m             \u001b[0mpassword\u001b[0m\u001b[0;34m=\u001b[0m\u001b[0;32mFalse\u001b[0m\u001b[0;34m,\u001b[0m\u001b[0;34m\u001b[0m\u001b[0;34m\u001b[0m\u001b[0m\n\u001b[0m\u001b[1;32m    705\u001b[0m         )\n\u001b[1;32m    706\u001b[0m \u001b[0;34m\u001b[0m\u001b[0m\n",
            "\u001b[0;32m/usr/local/lib/python3.7/dist-packages/ipykernel/kernelbase.py\u001b[0m in \u001b[0;36m_input_request\u001b[0;34m(self, prompt, ident, parent, password)\u001b[0m\n\u001b[1;32m    732\u001b[0m             \u001b[0;32mexcept\u001b[0m \u001b[0mKeyboardInterrupt\u001b[0m\u001b[0;34m:\u001b[0m\u001b[0;34m\u001b[0m\u001b[0;34m\u001b[0m\u001b[0m\n\u001b[1;32m    733\u001b[0m                 \u001b[0;31m# re-raise KeyboardInterrupt, to truncate traceback\u001b[0m\u001b[0;34m\u001b[0m\u001b[0;34m\u001b[0m\u001b[0;34m\u001b[0m\u001b[0m\n\u001b[0;32m--> 734\u001b[0;31m                 \u001b[0;32mraise\u001b[0m \u001b[0mKeyboardInterrupt\u001b[0m\u001b[0;34m\u001b[0m\u001b[0;34m\u001b[0m\u001b[0m\n\u001b[0m\u001b[1;32m    735\u001b[0m             \u001b[0;32melse\u001b[0m\u001b[0;34m:\u001b[0m\u001b[0;34m\u001b[0m\u001b[0;34m\u001b[0m\u001b[0m\n\u001b[1;32m    736\u001b[0m                 \u001b[0;32mbreak\u001b[0m\u001b[0;34m\u001b[0m\u001b[0;34m\u001b[0m\u001b[0m\n",
            "\u001b[0;31mKeyboardInterrupt\u001b[0m: "
          ]
        }
      ],
      "source": [
        "# 18108\n",
        "\n",
        "a = int(input())\n",
        "b = a-543\n",
        "\n",
        "print(b)"
      ]
    },
    {
      "cell_type": "markdown",
      "metadata": {
        "id": "9NZNqXQ4CdwN"
      },
      "source": [
        "문제 10952번"
      ]
    },
    {
      "cell_type": "code",
      "execution_count": null,
      "metadata": {
        "colab": {
          "base_uri": "https://localhost:8080/",
          "height": 558
        },
        "id": "5zsK-3qgB358",
        "outputId": "38b791a0-3094-45fa-a42f-06f10973b80f"
      },
      "outputs": [
        {
          "ename": "KeyboardInterrupt",
          "evalue": "ignored",
          "output_type": "error",
          "traceback": [
            "\u001b[0;31m---------------------------------------------------------------------------\u001b[0m",
            "\u001b[0;31mKeyboardInterrupt\u001b[0m                         Traceback (most recent call last)",
            "\u001b[0;32m/usr/local/lib/python3.7/dist-packages/ipykernel/kernelbase.py\u001b[0m in \u001b[0;36m_input_request\u001b[0;34m(self, prompt, ident, parent, password)\u001b[0m\n\u001b[1;32m    728\u001b[0m             \u001b[0;32mtry\u001b[0m\u001b[0;34m:\u001b[0m\u001b[0;34m\u001b[0m\u001b[0;34m\u001b[0m\u001b[0m\n\u001b[0;32m--> 729\u001b[0;31m                 \u001b[0mident\u001b[0m\u001b[0;34m,\u001b[0m \u001b[0mreply\u001b[0m \u001b[0;34m=\u001b[0m \u001b[0mself\u001b[0m\u001b[0;34m.\u001b[0m\u001b[0msession\u001b[0m\u001b[0;34m.\u001b[0m\u001b[0mrecv\u001b[0m\u001b[0;34m(\u001b[0m\u001b[0mself\u001b[0m\u001b[0;34m.\u001b[0m\u001b[0mstdin_socket\u001b[0m\u001b[0;34m,\u001b[0m \u001b[0;36m0\u001b[0m\u001b[0;34m)\u001b[0m\u001b[0;34m\u001b[0m\u001b[0;34m\u001b[0m\u001b[0m\n\u001b[0m\u001b[1;32m    730\u001b[0m             \u001b[0;32mexcept\u001b[0m \u001b[0mException\u001b[0m\u001b[0;34m:\u001b[0m\u001b[0;34m\u001b[0m\u001b[0;34m\u001b[0m\u001b[0m\n",
            "\u001b[0;32m/usr/local/lib/python3.7/dist-packages/jupyter_client/session.py\u001b[0m in \u001b[0;36mrecv\u001b[0;34m(self, socket, mode, content, copy)\u001b[0m\n\u001b[1;32m    802\u001b[0m         \u001b[0;32mtry\u001b[0m\u001b[0;34m:\u001b[0m\u001b[0;34m\u001b[0m\u001b[0;34m\u001b[0m\u001b[0m\n\u001b[0;32m--> 803\u001b[0;31m             \u001b[0mmsg_list\u001b[0m \u001b[0;34m=\u001b[0m \u001b[0msocket\u001b[0m\u001b[0;34m.\u001b[0m\u001b[0mrecv_multipart\u001b[0m\u001b[0;34m(\u001b[0m\u001b[0mmode\u001b[0m\u001b[0;34m,\u001b[0m \u001b[0mcopy\u001b[0m\u001b[0;34m=\u001b[0m\u001b[0mcopy\u001b[0m\u001b[0;34m)\u001b[0m\u001b[0;34m\u001b[0m\u001b[0;34m\u001b[0m\u001b[0m\n\u001b[0m\u001b[1;32m    804\u001b[0m         \u001b[0;32mexcept\u001b[0m \u001b[0mzmq\u001b[0m\u001b[0;34m.\u001b[0m\u001b[0mZMQError\u001b[0m \u001b[0;32mas\u001b[0m \u001b[0me\u001b[0m\u001b[0;34m:\u001b[0m\u001b[0;34m\u001b[0m\u001b[0;34m\u001b[0m\u001b[0m\n",
            "\u001b[0;32m/usr/local/lib/python3.7/dist-packages/zmq/sugar/socket.py\u001b[0m in \u001b[0;36mrecv_multipart\u001b[0;34m(self, flags, copy, track)\u001b[0m\n\u001b[1;32m    624\u001b[0m         \"\"\"\n\u001b[0;32m--> 625\u001b[0;31m         \u001b[0mparts\u001b[0m \u001b[0;34m=\u001b[0m \u001b[0;34m[\u001b[0m\u001b[0mself\u001b[0m\u001b[0;34m.\u001b[0m\u001b[0mrecv\u001b[0m\u001b[0;34m(\u001b[0m\u001b[0mflags\u001b[0m\u001b[0;34m,\u001b[0m \u001b[0mcopy\u001b[0m\u001b[0;34m=\u001b[0m\u001b[0mcopy\u001b[0m\u001b[0;34m,\u001b[0m \u001b[0mtrack\u001b[0m\u001b[0;34m=\u001b[0m\u001b[0mtrack\u001b[0m\u001b[0;34m)\u001b[0m\u001b[0;34m]\u001b[0m\u001b[0;34m\u001b[0m\u001b[0;34m\u001b[0m\u001b[0m\n\u001b[0m\u001b[1;32m    626\u001b[0m         \u001b[0;31m# have first part already, only loop while more to receive\u001b[0m\u001b[0;34m\u001b[0m\u001b[0;34m\u001b[0m\u001b[0;34m\u001b[0m\u001b[0m\n",
            "\u001b[0;32mzmq/backend/cython/socket.pyx\u001b[0m in \u001b[0;36mzmq.backend.cython.socket.Socket.recv\u001b[0;34m()\u001b[0m\n",
            "\u001b[0;32mzmq/backend/cython/socket.pyx\u001b[0m in \u001b[0;36mzmq.backend.cython.socket.Socket.recv\u001b[0;34m()\u001b[0m\n",
            "\u001b[0;32mzmq/backend/cython/socket.pyx\u001b[0m in \u001b[0;36mzmq.backend.cython.socket._recv_copy\u001b[0;34m()\u001b[0m\n",
            "\u001b[0;32m/usr/local/lib/python3.7/dist-packages/zmq/backend/cython/checkrc.pxd\u001b[0m in \u001b[0;36mzmq.backend.cython.checkrc._check_rc\u001b[0;34m()\u001b[0m\n",
            "\u001b[0;31mKeyboardInterrupt\u001b[0m: ",
            "\nDuring handling of the above exception, another exception occurred:\n",
            "\u001b[0;31mKeyboardInterrupt\u001b[0m                         Traceback (most recent call last)",
            "\u001b[0;32m<ipython-input-5-8721e0f62d29>\u001b[0m in \u001b[0;36m<module>\u001b[0;34m()\u001b[0m\n\u001b[1;32m      1\u001b[0m \u001b[0;31m# 10952\u001b[0m\u001b[0;34m\u001b[0m\u001b[0;34m\u001b[0m\u001b[0;34m\u001b[0m\u001b[0m\n\u001b[1;32m      2\u001b[0m \u001b[0;32mwhile\u001b[0m \u001b[0;36m1\u001b[0m\u001b[0;34m:\u001b[0m\u001b[0;34m\u001b[0m\u001b[0;34m\u001b[0m\u001b[0m\n\u001b[0;32m----> 3\u001b[0;31m   \u001b[0ma\u001b[0m\u001b[0;34m,\u001b[0m \u001b[0mb\u001b[0m \u001b[0;34m=\u001b[0m \u001b[0mmap\u001b[0m\u001b[0;34m(\u001b[0m\u001b[0mint\u001b[0m\u001b[0;34m,\u001b[0m\u001b[0minput\u001b[0m\u001b[0;34m(\u001b[0m\u001b[0;34m)\u001b[0m\u001b[0;34m.\u001b[0m\u001b[0msplit\u001b[0m\u001b[0;34m(\u001b[0m\u001b[0;34m)\u001b[0m\u001b[0;34m)\u001b[0m\u001b[0;34m\u001b[0m\u001b[0;34m\u001b[0m\u001b[0m\n\u001b[0m\u001b[1;32m      4\u001b[0m \u001b[0;34m\u001b[0m\u001b[0m\n\u001b[1;32m      5\u001b[0m   \u001b[0mprint\u001b[0m\u001b[0;34m(\u001b[0m\u001b[0ma\u001b[0m\u001b[0;34m+\u001b[0m\u001b[0mb\u001b[0m\u001b[0;34m)\u001b[0m\u001b[0;34m\u001b[0m\u001b[0;34m\u001b[0m\u001b[0m\n",
            "\u001b[0;32m/usr/local/lib/python3.7/dist-packages/ipykernel/kernelbase.py\u001b[0m in \u001b[0;36mraw_input\u001b[0;34m(self, prompt)\u001b[0m\n\u001b[1;32m    702\u001b[0m             \u001b[0mself\u001b[0m\u001b[0;34m.\u001b[0m\u001b[0m_parent_ident\u001b[0m\u001b[0;34m,\u001b[0m\u001b[0;34m\u001b[0m\u001b[0;34m\u001b[0m\u001b[0m\n\u001b[1;32m    703\u001b[0m             \u001b[0mself\u001b[0m\u001b[0;34m.\u001b[0m\u001b[0m_parent_header\u001b[0m\u001b[0;34m,\u001b[0m\u001b[0;34m\u001b[0m\u001b[0;34m\u001b[0m\u001b[0m\n\u001b[0;32m--> 704\u001b[0;31m             \u001b[0mpassword\u001b[0m\u001b[0;34m=\u001b[0m\u001b[0;32mFalse\u001b[0m\u001b[0;34m,\u001b[0m\u001b[0;34m\u001b[0m\u001b[0;34m\u001b[0m\u001b[0m\n\u001b[0m\u001b[1;32m    705\u001b[0m         )\n\u001b[1;32m    706\u001b[0m \u001b[0;34m\u001b[0m\u001b[0m\n",
            "\u001b[0;32m/usr/local/lib/python3.7/dist-packages/ipykernel/kernelbase.py\u001b[0m in \u001b[0;36m_input_request\u001b[0;34m(self, prompt, ident, parent, password)\u001b[0m\n\u001b[1;32m    732\u001b[0m             \u001b[0;32mexcept\u001b[0m \u001b[0mKeyboardInterrupt\u001b[0m\u001b[0;34m:\u001b[0m\u001b[0;34m\u001b[0m\u001b[0;34m\u001b[0m\u001b[0m\n\u001b[1;32m    733\u001b[0m                 \u001b[0;31m# re-raise KeyboardInterrupt, to truncate traceback\u001b[0m\u001b[0;34m\u001b[0m\u001b[0;34m\u001b[0m\u001b[0;34m\u001b[0m\u001b[0m\n\u001b[0;32m--> 734\u001b[0;31m                 \u001b[0;32mraise\u001b[0m \u001b[0mKeyboardInterrupt\u001b[0m\u001b[0;34m\u001b[0m\u001b[0;34m\u001b[0m\u001b[0m\n\u001b[0m\u001b[1;32m    735\u001b[0m             \u001b[0;32melse\u001b[0m\u001b[0;34m:\u001b[0m\u001b[0;34m\u001b[0m\u001b[0;34m\u001b[0m\u001b[0m\n\u001b[1;32m    736\u001b[0m                 \u001b[0;32mbreak\u001b[0m\u001b[0;34m\u001b[0m\u001b[0;34m\u001b[0m\u001b[0m\n",
            "\u001b[0;31mKeyboardInterrupt\u001b[0m: "
          ]
        }
      ],
      "source": [
        "# 10952\n",
        "while 1:\n",
        "  a, b = map(int,input().split())\n",
        "  \n",
        "  if a+b==0:\n",
        "    break\n",
        "  else:\n",
        "    print(a+b)"
      ]
    },
    {
      "cell_type": "markdown",
      "metadata": {
        "id": "WBLfSRd0Chs1"
      },
      "source": [
        "문제 10951번"
      ]
    },
    {
      "cell_type": "code",
      "execution_count": null,
      "metadata": {
        "colab": {
          "base_uri": "https://localhost:8080/",
          "height": 136
        },
        "id": "K-E_KKbwCiAn",
        "outputId": "bff147ac-e23e-4abc-ae7e-e330caa61a9a"
      },
      "outputs": [
        {
          "ename": "IndentationError",
          "evalue": "ignored",
          "output_type": "error",
          "traceback": [
            "\u001b[0;36m  File \u001b[0;32m\"<ipython-input-7-5d573ca460fc>\"\u001b[0;36m, line \u001b[0;32m5\u001b[0m\n\u001b[0;31m    print(a+b)\u001b[0m\n\u001b[0m    ^\u001b[0m\n\u001b[0;31mIndentationError\u001b[0m\u001b[0;31m:\u001b[0m unexpected indent\n"
          ]
        }
      ],
      "source": [
        "# 10951\n",
        "while 1:\n",
        "  try:\n",
        "     a, b = map(int,input().split())\n",
        "     print(a+b)\n",
        "  except EOFError :\n",
        "    break"
      ]
    },
    {
      "cell_type": "markdown",
      "metadata": {
        "id": "XHOWgr_mFncU"
      },
      "source": [
        "문제 1110번"
      ]
    },
    {
      "cell_type": "code",
      "execution_count": null,
      "metadata": {
        "id": "WL5ybqdFFmAG"
      },
      "outputs": [],
      "source": [
        "# 1110\n",
        "count = 1\n",
        "result = 0\n",
        "num = int(input(a))\n",
        "\n",
        "while result==a:\n",
        "  if a<10:\n",
        "    "
      ]
    },
    {
      "cell_type": "markdown",
      "metadata": {
        "id": "r2M6ZpclrXqI"
      },
      "source": [
        "문제 2525번"
      ]
    },
    {
      "cell_type": "code",
      "execution_count": 12,
      "metadata": {
        "colab": {
          "base_uri": "https://localhost:8080/"
        },
        "id": "Fk6T5wW2rWsR",
        "outputId": "b1d4df03-ccb2-45b3-e4f8-eff4e1bde204"
      },
      "outputs": [
        {
          "output_type": "stream",
          "name": "stdout",
          "text": [
            "23 48\n",
            "25\n",
            "0 13\n"
          ]
        }
      ],
      "source": [
        "# 2525\n",
        "h, m = map(int, input().split())\n",
        "\n",
        "p = int(input())\n",
        "\n",
        "a, b = divmod(p,60)\n",
        "\n",
        "if m+b >= 60:\n",
        "  m = m+b-60\n",
        "  a = a+1\n",
        "  c, d = divmod(h+a,24)\n",
        "  h = d\n",
        "\n",
        "else:\n",
        "  m = m+b\n",
        "  c, d = divmod(h+a, 24)\n",
        "  h = d\n",
        "\n",
        "print('{0} {1}'.format(h,m))\n"
      ]
    },
    {
      "cell_type": "markdown",
      "source": [
        "문제 2480"
      ],
      "metadata": {
        "id": "Ei6t1YGaukNh"
      }
    },
    {
      "cell_type": "code",
      "source": [
        "# 2480\n",
        "\n",
        "a, b, c = map(int, input().split())\n",
        "dice = []\n",
        "dice.append(a)\n",
        "dice.append(b)\n",
        "dice.append(c)\n",
        "left = sum(dice)-(max(dice)+min(dice))\n",
        "answer = 0\n",
        "\n",
        "# 3개 다 같은 경우\n",
        "if max(dice) == min(dice):\n",
        "  answer = max(dice)*1000 + 10000\n",
        "\n",
        "# 2개만 같은 경우\n",
        "else:\n",
        "  if left == max(dice) or left == min(dice):\n",
        "    answer = left*100 + 1000\n",
        "  else:\n",
        "    answer = max(dice)*100\n",
        "\n",
        "\n",
        "print(answer)"
      ],
      "metadata": {
        "colab": {
          "base_uri": "https://localhost:8080/"
        },
        "id": "Uic3tLC6kZ2r",
        "outputId": "4b26b672-9549-4dcf-d595-f558b67af8a1"
      },
      "execution_count": 30,
      "outputs": [
        {
          "output_type": "stream",
          "name": "stdout",
          "text": [
            "3 2 2\n",
            "1200\n"
          ]
        }
      ]
    },
    {
      "cell_type": "markdown",
      "source": [
        "문제 10818"
      ],
      "metadata": {
        "id": "XneElyjAH8vy"
      }
    },
    {
      "cell_type": "code",
      "source": [
        "# 10818\n",
        "\n",
        "n = input()\n",
        "\n",
        "t_list = list(map(int,input().split()))\n",
        "\n",
        "print(min(t_list),max(t_list))\n"
      ],
      "metadata": {
        "colab": {
          "base_uri": "https://localhost:8080/"
        },
        "id": "hzd3gqo8HulN",
        "outputId": "caa1fb87-34e0-4058-dee3-971aed77bbdb"
      },
      "execution_count": 58,
      "outputs": [
        {
          "output_type": "stream",
          "name": "stdout",
          "text": [
            "4\n",
            "20 4 64 1\n",
            "1 64\n"
          ]
        }
      ]
    },
    {
      "cell_type": "code",
      "source": [
        ""
      ],
      "metadata": {
        "id": "zb8c3igxI2l6"
      },
      "execution_count": null,
      "outputs": []
    },
    {
      "cell_type": "code",
      "source": [
        "for i in range(6):\n",
        "  print(1)"
      ],
      "metadata": {
        "colab": {
          "base_uri": "https://localhost:8080/"
        },
        "id": "zNFFrxc3IT9u",
        "outputId": "544a47f7-56a0-4ec1-e755-4688d7268a55"
      },
      "execution_count": 34,
      "outputs": [
        {
          "output_type": "stream",
          "name": "stdout",
          "text": [
            "1\n",
            "1\n",
            "1\n",
            "1\n",
            "1\n",
            "1\n"
          ]
        }
      ]
    }
  ],
  "metadata": {
    "colab": {
      "name": "baek_easy_algorithm.ipynb",
      "provenance": [],
      "authorship_tag": "ABX9TyOjrW5rgQersjQpBUomcCM7",
      "include_colab_link": true
    },
    "kernelspec": {
      "display_name": "Python 3",
      "name": "python3"
    },
    "language_info": {
      "name": "python"
    }
  },
  "nbformat": 4,
  "nbformat_minor": 0
}