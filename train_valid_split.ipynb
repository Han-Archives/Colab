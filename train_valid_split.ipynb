{
  "nbformat": 4,
  "nbformat_minor": 0,
  "metadata": {
    "colab": {
      "name": "train_valid_split.ipynb",
      "provenance": [],
      "authorship_tag": "ABX9TyPQBYUt2sng8rCR78LKbKD2",
      "include_colab_link": true
    },
    "kernelspec": {
      "name": "python3",
      "display_name": "Python 3"
    },
    "language_info": {
      "name": "python"
    }
  },
  "cells": [
    {
      "cell_type": "markdown",
      "metadata": {
        "id": "view-in-github",
        "colab_type": "text"
      },
      "source": [
        "<a href=\"https://colab.research.google.com/github/Han-Archives/Colab/blob/main/train_valid_split.ipynb\" target=\"_parent\"><img src=\"https://colab.research.google.com/assets/colab-badge.svg\" alt=\"Open In Colab\"/></a>"
      ]
    },
    {
      "cell_type": "markdown",
      "source": [
        "라벨링 작업이 완료가 된 상태로 완료된 dataset을 train과 valid로 나누는 작업을 진행"
      ],
      "metadata": {
        "id": "iLChKA03hRB-"
      }
    },
    {
      "cell_type": "code",
      "source": [
        "from google.colab import drive\n",
        "drive.mount('/content/drive')"
      ],
      "metadata": {
        "id": "lTEyyAjwivns",
        "colab": {
          "base_uri": "https://localhost:8080/"
        },
        "outputId": "dd273e66-a49e-4946-ccee-411938eeb099"
      },
      "execution_count": 2,
      "outputs": [
        {
          "output_type": "stream",
          "name": "stdout",
          "text": [
            "Mounted at /content/drive\n"
          ]
        }
      ]
    },
    {
      "cell_type": "markdown",
      "source": [
        "아래의 glob 함수는 파일들의 리스트를 뽑을 때 사용하는데, 파일의 경로명을 알면 마음대로 넣기, 꺼내기 등 많은 것이 가능한 함수"
      ],
      "metadata": {
        "id": "HeuY2j04qShX"
      }
    },
    {
      "cell_type": "code",
      "source": [
        "from glob import glob\n",
        "\n",
        "img_list = glob(\"/content/drive/MyDrive/Data/computer_vision/images/*.jpg\") # 모든 jpg 파일을 리스트로 저장"
      ],
      "metadata": {
        "id": "Tc201r8MpZaB"
      },
      "execution_count": 3,
      "outputs": []
    },
    {
      "cell_type": "code",
      "source": [
        "len(img_list)"
      ],
      "metadata": {
        "colab": {
          "base_uri": "https://localhost:8080/"
        },
        "id": "NLTpojTRqgvd",
        "outputId": "93122bae-c346-4da2-c7cd-4e2a40a4a354"
      },
      "execution_count": 4,
      "outputs": [
        {
          "output_type": "execute_result",
          "data": {
            "text/plain": [
              "251"
            ]
          },
          "metadata": {},
          "execution_count": 4
        }
      ]
    },
    {
      "cell_type": "code",
      "source": [
        "# train_test_split\n",
        "from sklearn.model_selection import train_test_split\n",
        "\n",
        "train_img_list, val_img_list = train_test_split(img_list, test_size=0.2, random_state=1000)\n",
        "\n",
        "print(len(train_img_list), len(val_img_list))"
      ],
      "metadata": {
        "colab": {
          "base_uri": "https://localhost:8080/"
        },
        "id": "D--TRuZFqobG",
        "outputId": "46afb709-cb84-4626-d0b4-51a3a625e91c"
      },
      "execution_count": 6,
      "outputs": [
        {
          "output_type": "stream",
          "name": "stdout",
          "text": [
            "200 51\n"
          ]
        }
      ]
    },
    {
      "cell_type": "code",
      "source": [
        ""
      ],
      "metadata": {
        "id": "MOMS8lw2ralO"
      },
      "execution_count": null,
      "outputs": []
    }
  ]
}